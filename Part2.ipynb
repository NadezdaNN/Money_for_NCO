{
 "cells": [
  {
   "cell_type": "code",
   "execution_count": 85,
   "metadata": {},
   "outputs": [],
   "source": [
    "# Подключение необходимых библиотек\n",
    "import pandas as pd\n",
    "import sweetviz as sv\n",
    "import matplotlib.pyplot as plt\n",
    "import seaborn as sns\n",
    "import plotly\n",
    "import plotly.express as px\n",
    "import category_encoders as ce # импорт для работы с кодировщиком\n",
    "from sklearn.model_selection import train_test_split\n",
    "from sklearn import linear_model #линейные модели\n",
    "from sklearn import metrics #метрики\n",
    "from sklearn import tree #модели деревьев решения\n",
    "import numpy as np\n",
    "from sklearn import ensemble\n",
    "from sklearn.model_selection import GridSearchCV\n",
    "import pickle\n",
    "import warnings # для игнорирования предупреждений\n",
    "#Игнорируем предупреждения\n",
    "warnings.filterwarnings('ignore')\n",
    "# Устанавливаем стиль визуализаций в matplotlib\n",
    "%matplotlib inline\n",
    "plt.style.use('seaborn')"
   ]
  },
  {
   "cell_type": "code",
   "execution_count": 86,
   "metadata": {},
   "outputs": [
    {
     "data": {
      "text/html": [
       "<div>\n",
       "<style scoped>\n",
       "    .dataframe tbody tr th:only-of-type {\n",
       "        vertical-align: middle;\n",
       "    }\n",
       "\n",
       "    .dataframe tbody tr th {\n",
       "        vertical-align: top;\n",
       "    }\n",
       "\n",
       "    .dataframe thead th {\n",
       "        text-align: right;\n",
       "    }\n",
       "</style>\n",
       "<table border=\"1\" class=\"dataframe\">\n",
       "  <thead>\n",
       "    <tr style=\"text-align: right;\">\n",
       "      <th></th>\n",
       "      <th>ogrn</th>\n",
       "      <th>shortName</th>\n",
       "      <th>regionCode</th>\n",
       "      <th>regionName</th>\n",
       "      <th>dateReg</th>\n",
       "      <th>dateOgrn</th>\n",
       "      <th>dateLiquid</th>\n",
       "      <th>originDate</th>\n",
       "      <th>egrulStatus</th>\n",
       "      <th>incomeTotal</th>\n",
       "      <th>...</th>\n",
       "      <th>sumFedSubsidies</th>\n",
       "      <th>sumContracts</th>\n",
       "      <th>SM_youtube</th>\n",
       "      <th>SM_vk</th>\n",
       "      <th>SM_facebook</th>\n",
       "      <th>SM_twitter</th>\n",
       "      <th>SM_instagram</th>\n",
       "      <th>SM_ok</th>\n",
       "      <th>addOkved_name</th>\n",
       "      <th>addOkved_code</th>\n",
       "    </tr>\n",
       "  </thead>\n",
       "  <tbody>\n",
       "    <tr>\n",
       "      <th>0</th>\n",
       "      <td>1207800141790</td>\n",
       "      <td>\"АМА\"</td>\n",
       "      <td>78</td>\n",
       "      <td>Санкт-Петербург</td>\n",
       "      <td>NaN</td>\n",
       "      <td>2020-10-30</td>\n",
       "      <td>NaN</td>\n",
       "      <td>2020-10-30</td>\n",
       "      <td>Действует</td>\n",
       "      <td>0.0</td>\n",
       "      <td>...</td>\n",
       "      <td>0.0</td>\n",
       "      <td>0.0</td>\n",
       "      <td>NaN</td>\n",
       "      <td>NaN</td>\n",
       "      <td>NaN</td>\n",
       "      <td>NaN</td>\n",
       "      <td>NaN</td>\n",
       "      <td>NaN</td>\n",
       "      <td>undefined</td>\n",
       "      <td>undefined</td>\n",
       "    </tr>\n",
       "    <tr>\n",
       "      <th>1</th>\n",
       "      <td>1207700349152</td>\n",
       "      <td>ФОНД \"УНИВЕРСАЛИСТ М\"</td>\n",
       "      <td>77</td>\n",
       "      <td>Москва</td>\n",
       "      <td>NaN</td>\n",
       "      <td>2020-09-23</td>\n",
       "      <td>NaN</td>\n",
       "      <td>2020-09-23</td>\n",
       "      <td>Действует</td>\n",
       "      <td>0.0</td>\n",
       "      <td>...</td>\n",
       "      <td>0.0</td>\n",
       "      <td>0.0</td>\n",
       "      <td>NaN</td>\n",
       "      <td>NaN</td>\n",
       "      <td>NaN</td>\n",
       "      <td>NaN</td>\n",
       "      <td>NaN</td>\n",
       "      <td>NaN</td>\n",
       "      <td>Издание книг;Издание газет;Виды издательской д...</td>\n",
       "      <td>58.11;58.13;58.19;59.20.1</td>\n",
       "    </tr>\n",
       "    <tr>\n",
       "      <th>2</th>\n",
       "      <td>1207800011430</td>\n",
       "      <td>NaN</td>\n",
       "      <td>78</td>\n",
       "      <td>Санкт-Петербург</td>\n",
       "      <td>NaN</td>\n",
       "      <td>2020-02-03</td>\n",
       "      <td>NaN</td>\n",
       "      <td>2020-02-03</td>\n",
       "      <td>Действует</td>\n",
       "      <td>0.0</td>\n",
       "      <td>...</td>\n",
       "      <td>0.0</td>\n",
       "      <td>0.0</td>\n",
       "      <td>NaN</td>\n",
       "      <td>NaN</td>\n",
       "      <td>NaN</td>\n",
       "      <td>NaN</td>\n",
       "      <td>NaN</td>\n",
       "      <td>NaN</td>\n",
       "      <td>undefined</td>\n",
       "      <td>undefined</td>\n",
       "    </tr>\n",
       "    <tr>\n",
       "      <th>3</th>\n",
       "      <td>1207700348976</td>\n",
       "      <td>ТСН \"ЛУГИНИНО ПАРК\"</td>\n",
       "      <td>77</td>\n",
       "      <td>Москва</td>\n",
       "      <td>NaN</td>\n",
       "      <td>2020-09-23</td>\n",
       "      <td>NaN</td>\n",
       "      <td>2020-09-23</td>\n",
       "      <td>Действует</td>\n",
       "      <td>0.0</td>\n",
       "      <td>...</td>\n",
       "      <td>0.0</td>\n",
       "      <td>0.0</td>\n",
       "      <td>NaN</td>\n",
       "      <td>NaN</td>\n",
       "      <td>NaN</td>\n",
       "      <td>NaN</td>\n",
       "      <td>NaN</td>\n",
       "      <td>NaN</td>\n",
       "      <td>Аренда и управление собственным или арендованн...</td>\n",
       "      <td>68.20;68.10</td>\n",
       "    </tr>\n",
       "    <tr>\n",
       "      <th>4</th>\n",
       "      <td>1207800081500</td>\n",
       "      <td>АНО \"ЦЕНТР \"ПЕТЕРБУРГФОРУМ\"</td>\n",
       "      <td>78</td>\n",
       "      <td>Санкт-Петербург</td>\n",
       "      <td>NaN</td>\n",
       "      <td>2020-07-08</td>\n",
       "      <td>NaN</td>\n",
       "      <td>2020-07-08</td>\n",
       "      <td>Действует</td>\n",
       "      <td>0.0</td>\n",
       "      <td>...</td>\n",
       "      <td>0.0</td>\n",
       "      <td>0.0</td>\n",
       "      <td>NaN</td>\n",
       "      <td>NaN</td>\n",
       "      <td>NaN</td>\n",
       "      <td>NaN</td>\n",
       "      <td>NaN</td>\n",
       "      <td>NaN</td>\n",
       "      <td>Исследование конъюнктуры рынка и изучение обще...</td>\n",
       "      <td>73.20;58.11.1;93.29.9;85.41.9;88.99;70.21</td>\n",
       "    </tr>\n",
       "  </tbody>\n",
       "</table>\n",
       "<p>5 rows × 29 columns</p>\n",
       "</div>"
      ],
      "text/plain": [
       "            ogrn                    shortName  regionCode       regionName  \\\n",
       "0  1207800141790                        \"АМА\"          78  Санкт-Петербург   \n",
       "1  1207700349152        ФОНД \"УНИВЕРСАЛИСТ М\"          77           Москва   \n",
       "2  1207800011430                          NaN          78  Санкт-Петербург   \n",
       "3  1207700348976          ТСН \"ЛУГИНИНО ПАРК\"          77           Москва   \n",
       "4  1207800081500  АНО \"ЦЕНТР \"ПЕТЕРБУРГФОРУМ\"          78  Санкт-Петербург   \n",
       "\n",
       "  dateReg    dateOgrn dateLiquid  originDate egrulStatus  incomeTotal  ...  \\\n",
       "0     NaN  2020-10-30        NaN  2020-10-30   Действует          0.0  ...   \n",
       "1     NaN  2020-09-23        NaN  2020-09-23   Действует          0.0  ...   \n",
       "2     NaN  2020-02-03        NaN  2020-02-03   Действует          0.0  ...   \n",
       "3     NaN  2020-09-23        NaN  2020-09-23   Действует          0.0  ...   \n",
       "4     NaN  2020-07-08        NaN  2020-07-08   Действует          0.0  ...   \n",
       "\n",
       "   sumFedSubsidies sumContracts SM_youtube SM_vk  SM_facebook SM_twitter  \\\n",
       "0              0.0          0.0        NaN   NaN          NaN        NaN   \n",
       "1              0.0          0.0        NaN   NaN          NaN        NaN   \n",
       "2              0.0          0.0        NaN   NaN          NaN        NaN   \n",
       "3              0.0          0.0        NaN   NaN          NaN        NaN   \n",
       "4              0.0          0.0        NaN   NaN          NaN        NaN   \n",
       "\n",
       "  SM_instagram SM_ok                                      addOkved_name  \\\n",
       "0          NaN   NaN                                          undefined   \n",
       "1          NaN   NaN  Издание книг;Издание газет;Виды издательской д...   \n",
       "2          NaN   NaN                                          undefined   \n",
       "3          NaN   NaN  Аренда и управление собственным или арендованн...   \n",
       "4          NaN   NaN  Исследование конъюнктуры рынка и изучение обще...   \n",
       "\n",
       "                               addOkved_code  \n",
       "0                                  undefined  \n",
       "1                  58.11;58.13;58.19;59.20.1  \n",
       "2                                  undefined  \n",
       "3                                68.20;68.10  \n",
       "4  73.20;58.11.1;93.29.9;85.41.9;88.99;70.21  \n",
       "\n",
       "[5 rows x 29 columns]"
      ]
     },
     "metadata": {},
     "output_type": "display_data"
    }
   ],
   "source": [
    "data = pd.read_csv('my_df.csv')\n",
    "display(data.head())"
   ]
  },
  {
   "cell_type": "markdown",
   "metadata": {},
   "source": [
    "### 2.1. Анализ и обработка данных"
   ]
  },
  {
   "cell_type": "code",
   "execution_count": 87,
   "metadata": {},
   "outputs": [
    {
     "data": {
      "application/vnd.jupyter.widget-view+json": {
       "model_id": "52be4cbe95b34a30b45ac373ba937029",
       "version_major": 2,
       "version_minor": 0
      },
      "text/plain": [
       "                                             |          | [  0%]   00:00 -> (? left)"
      ]
     },
     "metadata": {},
     "output_type": "display_data"
    },
    {
     "name": "stdout",
     "output_type": "stream",
     "text": [
      "Report my_report.html was generated! NOTEBOOK/COLAB USERS: the web browser MAY not pop up, regardless, the report IS saved in your notebook/colab files.\n",
      "ERROR: comet_ml is installed, but not configured properly (e.g. check API key setup). HTML reports will not be uploaded.\n"
     ]
    }
   ],
   "source": [
    "# Для первичного анализа набора данных воспользуемся библиотекой sweetviz\n",
    "report = sv.analyze(data)\n",
    "report.show_html('my_report.html')"
   ]
  },
  {
   "cell_type": "markdown",
   "metadata": {},
   "source": [
    "С помощью быстрого анализа данных библиотекой sweetviz, видим, что ряд признаков отвечающих за наличие записей организации в соцсетях, содержат более 99% пропусков. Необходимо удалить эти признаки. Вычислить зависимость вероятности получения организацией грантов от государства/госконтрактов от её публичности (записей в соцсетях), не представляется возможным."
   ]
  },
  {
   "cell_type": "code",
   "execution_count": 88,
   "metadata": {},
   "outputs": [
    {
     "name": "stdout",
     "output_type": "stream",
     "text": [
      "<class 'pandas.core.frame.DataFrame'>\n",
      "RangeIndex: 747034 entries, 0 to 747033\n",
      "Data columns (total 6 columns):\n",
      " #   Column        Non-Null Count  Dtype \n",
      "---  ------        --------------  ----- \n",
      " 0   SM_youtube    2 non-null      object\n",
      " 1   SM_vk         5 non-null      object\n",
      " 2   SM_ok         2 non-null      object\n",
      " 3   SM_facebook   5 non-null      object\n",
      " 4   SM_twitter    2 non-null      object\n",
      " 5   SM_instagram  1 non-null      object\n",
      "dtypes: object(6)\n",
      "memory usage: 34.2+ MB\n"
     ]
    },
    {
     "data": {
      "text/plain": [
       "None"
      ]
     },
     "metadata": {},
     "output_type": "display_data"
    }
   ],
   "source": [
    "display(data[['SM_youtube','SM_vk','SM_ok','SM_facebook','SM_twitter', 'SM_instagram']].info())\n",
    "data = data.drop(['SM_youtube','SM_vk','SM_ok','SM_facebook','SM_twitter', 'SM_instagram'], axis=1)"
   ]
  },
  {
   "cell_type": "code",
   "execution_count": 89,
   "metadata": {},
   "outputs": [
    {
     "name": "stdout",
     "output_type": "stream",
     "text": [
      "Размерность датасета:  (747034, 23)\n",
      "Количество уникальных НКО в датасете:  747034\n"
     ]
    }
   ],
   "source": [
    "print('Размерность датасета: ', data.shape)\n",
    "print('Количество уникальных НКО в датасете: ', data['ogrn'].count()) #unicue"
   ]
  },
  {
   "cell_type": "markdown",
   "metadata": {},
   "source": [
    "Видим, что каждая строка в датасете представляет из себя запись о конкретной НКО, которые не повторяются (являются уникальными).\n",
    "\n",
    "Рассмотрим статистические характеристики признаков:"
   ]
  },
  {
   "cell_type": "code",
   "execution_count": 90,
   "metadata": {},
   "outputs": [
    {
     "name": "stdout",
     "output_type": "stream",
     "text": [
      "<class 'pandas.core.frame.DataFrame'>\n",
      "RangeIndex: 747034 entries, 0 to 747033\n",
      "Data columns (total 23 columns):\n",
      " #   Column              Non-Null Count   Dtype  \n",
      "---  ------              --------------   -----  \n",
      " 0   ogrn                747034 non-null  int64  \n",
      " 1   shortName           597793 non-null  object \n",
      " 2   regionCode          747034 non-null  int64  \n",
      " 3   regionName          747009 non-null  object \n",
      " 4   dateReg             321416 non-null  object \n",
      " 5   dateOgrn            747034 non-null  object \n",
      " 6   dateLiquid          399961 non-null  object \n",
      " 7   originDate          747034 non-null  object \n",
      " 8   egrulStatus         747034 non-null  object \n",
      " 9   incomeTotal         747034 non-null  float64\n",
      " 10  hasRegionalSupport  747034 non-null  bool   \n",
      " 11  minjustForm         461073 non-null  object \n",
      " 12  minjustStatus       462302 non-null  object \n",
      " 13  opf_name            746619 non-null  object \n",
      " 14  opf_code            701825 non-null  float64\n",
      " 15  opf_version         746619 non-null  object \n",
      " 16  mainOkved_name      542353 non-null  object \n",
      " 17  mainOkved_code      542353 non-null  object \n",
      " 18  sumGrants           747034 non-null  float64\n",
      " 19  sumFedSubsidies     747034 non-null  float64\n",
      " 20  sumContracts        747034 non-null  float64\n",
      " 21  addOkved_name       747034 non-null  object \n",
      " 22  addOkved_code       747034 non-null  object \n",
      "dtypes: bool(1), float64(5), int64(2), object(15)\n",
      "memory usage: 126.1+ MB\n"
     ]
    }
   ],
   "source": [
    "data.info()"
   ]
  },
  {
   "cell_type": "code",
   "execution_count": 91,
   "metadata": {},
   "outputs": [
    {
     "data": {
      "text/html": [
       "<div>\n",
       "<style scoped>\n",
       "    .dataframe tbody tr th:only-of-type {\n",
       "        vertical-align: middle;\n",
       "    }\n",
       "\n",
       "    .dataframe tbody tr th {\n",
       "        vertical-align: top;\n",
       "    }\n",
       "\n",
       "    .dataframe thead th {\n",
       "        text-align: right;\n",
       "    }\n",
       "</style>\n",
       "<table border=\"1\" class=\"dataframe\">\n",
       "  <thead>\n",
       "    <tr style=\"text-align: right;\">\n",
       "      <th></th>\n",
       "      <th>ogrn</th>\n",
       "      <th>regionCode</th>\n",
       "      <th>incomeTotal</th>\n",
       "      <th>opf_code</th>\n",
       "      <th>sumGrants</th>\n",
       "      <th>sumFedSubsidies</th>\n",
       "      <th>sumContracts</th>\n",
       "    </tr>\n",
       "  </thead>\n",
       "  <tbody>\n",
       "    <tr>\n",
       "      <th>count</th>\n",
       "      <td>7.470340e+05</td>\n",
       "      <td>747034.000000</td>\n",
       "      <td>7.470340e+05</td>\n",
       "      <td>701825.000000</td>\n",
       "      <td>7.470340e+05</td>\n",
       "      <td>7.470340e+05</td>\n",
       "      <td>7.470340e+05</td>\n",
       "    </tr>\n",
       "    <tr>\n",
       "      <th>mean</th>\n",
       "      <td>1.101675e+12</td>\n",
       "      <td>48.865729</td>\n",
       "      <td>5.163821e+06</td>\n",
       "      <td>24272.335384</td>\n",
       "      <td>5.980867e+04</td>\n",
       "      <td>4.079199e+06</td>\n",
       "      <td>1.024814e+06</td>\n",
       "    </tr>\n",
       "    <tr>\n",
       "      <th>std</th>\n",
       "      <td>2.751948e+11</td>\n",
       "      <td>23.465874</td>\n",
       "      <td>1.552095e+09</td>\n",
       "      <td>25377.100936</td>\n",
       "      <td>1.054792e+06</td>\n",
       "      <td>1.538981e+09</td>\n",
       "      <td>1.435865e+08</td>\n",
       "    </tr>\n",
       "    <tr>\n",
       "      <th>min</th>\n",
       "      <td>1.006100e+12</td>\n",
       "      <td>0.000000</td>\n",
       "      <td>0.000000e+00</td>\n",
       "      <td>42.000000</td>\n",
       "      <td>0.000000e+00</td>\n",
       "      <td>0.000000e+00</td>\n",
       "      <td>0.000000e+00</td>\n",
       "    </tr>\n",
       "    <tr>\n",
       "      <th>25%</th>\n",
       "      <td>1.033801e+12</td>\n",
       "      <td>28.000000</td>\n",
       "      <td>0.000000e+00</td>\n",
       "      <td>94.000000</td>\n",
       "      <td>0.000000e+00</td>\n",
       "      <td>0.000000e+00</td>\n",
       "      <td>0.000000e+00</td>\n",
       "    </tr>\n",
       "    <tr>\n",
       "      <th>50%</th>\n",
       "      <td>1.067799e+12</td>\n",
       "      <td>51.000000</td>\n",
       "      <td>0.000000e+00</td>\n",
       "      <td>20200.000000</td>\n",
       "      <td>0.000000e+00</td>\n",
       "      <td>0.000000e+00</td>\n",
       "      <td>0.000000e+00</td>\n",
       "    </tr>\n",
       "    <tr>\n",
       "      <th>75%</th>\n",
       "      <td>1.126600e+12</td>\n",
       "      <td>70.000000</td>\n",
       "      <td>0.000000e+00</td>\n",
       "      <td>20701.000000</td>\n",
       "      <td>0.000000e+00</td>\n",
       "      <td>0.000000e+00</td>\n",
       "      <td>0.000000e+00</td>\n",
       "    </tr>\n",
       "    <tr>\n",
       "      <th>max</th>\n",
       "      <td>5.187746e+12</td>\n",
       "      <td>99.000000</td>\n",
       "      <td>1.227756e+12</td>\n",
       "      <td>75505.000000</td>\n",
       "      <td>1.980846e+08</td>\n",
       "      <td>1.227739e+12</td>\n",
       "      <td>6.578311e+10</td>\n",
       "    </tr>\n",
       "  </tbody>\n",
       "</table>\n",
       "</div>"
      ],
      "text/plain": [
       "               ogrn     regionCode   incomeTotal       opf_code     sumGrants  \\\n",
       "count  7.470340e+05  747034.000000  7.470340e+05  701825.000000  7.470340e+05   \n",
       "mean   1.101675e+12      48.865729  5.163821e+06   24272.335384  5.980867e+04   \n",
       "std    2.751948e+11      23.465874  1.552095e+09   25377.100936  1.054792e+06   \n",
       "min    1.006100e+12       0.000000  0.000000e+00      42.000000  0.000000e+00   \n",
       "25%    1.033801e+12      28.000000  0.000000e+00      94.000000  0.000000e+00   \n",
       "50%    1.067799e+12      51.000000  0.000000e+00   20200.000000  0.000000e+00   \n",
       "75%    1.126600e+12      70.000000  0.000000e+00   20701.000000  0.000000e+00   \n",
       "max    5.187746e+12      99.000000  1.227756e+12   75505.000000  1.980846e+08   \n",
       "\n",
       "       sumFedSubsidies  sumContracts  \n",
       "count     7.470340e+05  7.470340e+05  \n",
       "mean      4.079199e+06  1.024814e+06  \n",
       "std       1.538981e+09  1.435865e+08  \n",
       "min       0.000000e+00  0.000000e+00  \n",
       "25%       0.000000e+00  0.000000e+00  \n",
       "50%       0.000000e+00  0.000000e+00  \n",
       "75%       0.000000e+00  0.000000e+00  \n",
       "max       1.227739e+12  6.578311e+10  "
      ]
     },
     "metadata": {},
     "output_type": "display_data"
    }
   ],
   "source": [
    "display(data.describe())"
   ]
  },
  {
   "cell_type": "code",
   "execution_count": 92,
   "metadata": {},
   "outputs": [
    {
     "data": {
      "text/html": [
       "<div>\n",
       "<style scoped>\n",
       "    .dataframe tbody tr th:only-of-type {\n",
       "        vertical-align: middle;\n",
       "    }\n",
       "\n",
       "    .dataframe tbody tr th {\n",
       "        vertical-align: top;\n",
       "    }\n",
       "\n",
       "    .dataframe thead th {\n",
       "        text-align: right;\n",
       "    }\n",
       "</style>\n",
       "<table border=\"1\" class=\"dataframe\">\n",
       "  <thead>\n",
       "    <tr style=\"text-align: right;\">\n",
       "      <th></th>\n",
       "      <th>shortName</th>\n",
       "      <th>regionName</th>\n",
       "      <th>dateReg</th>\n",
       "      <th>dateOgrn</th>\n",
       "      <th>dateLiquid</th>\n",
       "      <th>originDate</th>\n",
       "      <th>egrulStatus</th>\n",
       "      <th>minjustForm</th>\n",
       "      <th>minjustStatus</th>\n",
       "      <th>opf_name</th>\n",
       "      <th>opf_version</th>\n",
       "      <th>mainOkved_name</th>\n",
       "      <th>mainOkved_code</th>\n",
       "      <th>addOkved_name</th>\n",
       "      <th>addOkved_code</th>\n",
       "    </tr>\n",
       "  </thead>\n",
       "  <tbody>\n",
       "    <tr>\n",
       "      <th>count</th>\n",
       "      <td>597793</td>\n",
       "      <td>747009</td>\n",
       "      <td>321416</td>\n",
       "      <td>747034</td>\n",
       "      <td>399961</td>\n",
       "      <td>747034</td>\n",
       "      <td>747034</td>\n",
       "      <td>461073</td>\n",
       "      <td>462302</td>\n",
       "      <td>746619</td>\n",
       "      <td>746619</td>\n",
       "      <td>542353</td>\n",
       "      <td>542353</td>\n",
       "      <td>747034</td>\n",
       "      <td>747034</td>\n",
       "    </tr>\n",
       "    <tr>\n",
       "      <th>unique</th>\n",
       "      <td>494876</td>\n",
       "      <td>86</td>\n",
       "      <td>12927</td>\n",
       "      <td>5610</td>\n",
       "      <td>5453</td>\n",
       "      <td>17004</td>\n",
       "      <td>2</td>\n",
       "      <td>42</td>\n",
       "      <td>2</td>\n",
       "      <td>272</td>\n",
       "      <td>3</td>\n",
       "      <td>1926</td>\n",
       "      <td>2040</td>\n",
       "      <td>126885</td>\n",
       "      <td>127343</td>\n",
       "    </tr>\n",
       "    <tr>\n",
       "      <th>top</th>\n",
       "      <td>-</td>\n",
       "      <td>Москва</td>\n",
       "      <td>1996-02-26</td>\n",
       "      <td>2002-12-31</td>\n",
       "      <td>2016-09-21</td>\n",
       "      <td>1996-02-26</td>\n",
       "      <td>Ликвидирована</td>\n",
       "      <td>Общественная организация</td>\n",
       "      <td>Исключена</td>\n",
       "      <td>Общественные организации</td>\n",
       "      <td>okopf</td>\n",
       "      <td>Деятельность прочих общественных организаций, ...</td>\n",
       "      <td>94.99</td>\n",
       "      <td>undefined</td>\n",
       "      <td>undefined</td>\n",
       "    </tr>\n",
       "    <tr>\n",
       "      <th>freq</th>\n",
       "      <td>10800</td>\n",
       "      <td>80178</td>\n",
       "      <td>3638</td>\n",
       "      <td>7794</td>\n",
       "      <td>1914</td>\n",
       "      <td>3638</td>\n",
       "      <td>406134</td>\n",
       "      <td>121679</td>\n",
       "      <td>255865</td>\n",
       "      <td>75444</td>\n",
       "      <td>687249</td>\n",
       "      <td>101190</td>\n",
       "      <td>76871</td>\n",
       "      <td>474366</td>\n",
       "      <td>474366</td>\n",
       "    </tr>\n",
       "  </tbody>\n",
       "</table>\n",
       "</div>"
      ],
      "text/plain": [
       "       shortName regionName     dateReg    dateOgrn  dateLiquid  originDate  \\\n",
       "count     597793     747009      321416      747034      399961      747034   \n",
       "unique    494876         86       12927        5610        5453       17004   \n",
       "top            -     Москва  1996-02-26  2002-12-31  2016-09-21  1996-02-26   \n",
       "freq       10800      80178        3638        7794        1914        3638   \n",
       "\n",
       "          egrulStatus               minjustForm minjustStatus  \\\n",
       "count          747034                    461073        462302   \n",
       "unique              2                        42             2   \n",
       "top     Ликвидирована  Общественная организация     Исключена   \n",
       "freq           406134                    121679        255865   \n",
       "\n",
       "                        opf_name opf_version  \\\n",
       "count                     746619      746619   \n",
       "unique                       272           3   \n",
       "top     Общественные организации       okopf   \n",
       "freq                       75444      687249   \n",
       "\n",
       "                                           mainOkved_name mainOkved_code  \\\n",
       "count                                              542353         542353   \n",
       "unique                                               1926           2040   \n",
       "top     Деятельность прочих общественных организаций, ...          94.99   \n",
       "freq                                               101190          76871   \n",
       "\n",
       "       addOkved_name addOkved_code  \n",
       "count         747034        747034  \n",
       "unique        126885        127343  \n",
       "top        undefined     undefined  \n",
       "freq          474366        474366  "
      ]
     },
     "metadata": {},
     "output_type": "display_data"
    }
   ],
   "source": [
    "display(data.describe(include=object))"
   ]
  },
  {
   "cell_type": "markdown",
   "metadata": {},
   "source": [
    "Пропущенные значения в признаке 'regionName' заполним значением 'unknown', заполнить их корректными названиями регионов не представляется возможным, т.к. соответствующие значения в столбце 'regionCode' = 0 (не существует региона РФ с таким кодом)."
   ]
  },
  {
   "cell_type": "code",
   "execution_count": 93,
   "metadata": {},
   "outputs": [],
   "source": [
    "data['regionName'] = data['regionName'].fillna('unknown')"
   ]
  },
  {
   "cell_type": "markdown",
   "metadata": {},
   "source": [
    "Сформируем признак 'age' - возраст организации в годах. Мы знаем, что до 2002 года датой создания организации считалась дата регистрации (столбец 'dateReg'), а после - дата присвоения ОГРН (столбец 'dateOgrn'). Ктоме того, мы имеем дамп данных актуальный на 26.08.2021 год, поэтому пропущенным значениям в столбце 'dateLiquid' (дата ликвидации) присвоим 2021 год. Так же проведенные исследования показали, что есть 4 НКО, у которых дата создания('dateReg'/'dateOgrn') больше года ликвидации. При этом год образования ('originDate') совпадает с годом ликвидации. Просто присвоим значению возраста \"age\" у таких НКО ноль."
   ]
  },
  {
   "cell_type": "code",
   "execution_count": 94,
   "metadata": {},
   "outputs": [
    {
     "data": {
      "text/html": [
       "<div>\n",
       "<style scoped>\n",
       "    .dataframe tbody tr th:only-of-type {\n",
       "        vertical-align: middle;\n",
       "    }\n",
       "\n",
       "    .dataframe tbody tr th {\n",
       "        vertical-align: top;\n",
       "    }\n",
       "\n",
       "    .dataframe thead th {\n",
       "        text-align: right;\n",
       "    }\n",
       "</style>\n",
       "<table border=\"1\" class=\"dataframe\">\n",
       "  <thead>\n",
       "    <tr style=\"text-align: right;\">\n",
       "      <th></th>\n",
       "      <th>ogrn</th>\n",
       "      <th>shortName</th>\n",
       "      <th>regionCode</th>\n",
       "      <th>regionName</th>\n",
       "      <th>incomeTotal</th>\n",
       "      <th>hasRegionalSupport</th>\n",
       "      <th>minjustForm</th>\n",
       "      <th>opf_name</th>\n",
       "      <th>opf_code</th>\n",
       "      <th>opf_version</th>\n",
       "      <th>mainOkved_name</th>\n",
       "      <th>mainOkved_code</th>\n",
       "      <th>sumGrants</th>\n",
       "      <th>sumFedSubsidies</th>\n",
       "      <th>sumContracts</th>\n",
       "      <th>addOkved_name</th>\n",
       "      <th>addOkved_code</th>\n",
       "      <th>age</th>\n",
       "    </tr>\n",
       "  </thead>\n",
       "  <tbody>\n",
       "    <tr>\n",
       "      <th>0</th>\n",
       "      <td>1207800141790</td>\n",
       "      <td>\"АМА\"</td>\n",
       "      <td>78</td>\n",
       "      <td>Санкт-Петербург</td>\n",
       "      <td>0.0</td>\n",
       "      <td>False</td>\n",
       "      <td>Объединения (союз, ассоциация) юридических лиц</td>\n",
       "      <td>Ассоциации (союзы)</td>\n",
       "      <td>20600.0</td>\n",
       "      <td>okopf</td>\n",
       "      <td>Деятельность профессиональных членских организ...</td>\n",
       "      <td>94.12</td>\n",
       "      <td>0.0</td>\n",
       "      <td>0.0</td>\n",
       "      <td>0.0</td>\n",
       "      <td>undefined</td>\n",
       "      <td>undefined</td>\n",
       "      <td>1.0</td>\n",
       "    </tr>\n",
       "    <tr>\n",
       "      <th>1</th>\n",
       "      <td>1207700349152</td>\n",
       "      <td>ФОНД \"УНИВЕРСАЛИСТ М\"</td>\n",
       "      <td>77</td>\n",
       "      <td>Москва</td>\n",
       "      <td>0.0</td>\n",
       "      <td>False</td>\n",
       "      <td>Некоммерческий фонд</td>\n",
       "      <td>Фонды</td>\n",
       "      <td>70400.0</td>\n",
       "      <td>okopf</td>\n",
       "      <td>Предоставление прочих финансовых услуг, кроме ...</td>\n",
       "      <td>64.99</td>\n",
       "      <td>0.0</td>\n",
       "      <td>0.0</td>\n",
       "      <td>0.0</td>\n",
       "      <td>Издание книг;Издание газет;Виды издательской д...</td>\n",
       "      <td>58.11;58.13;58.19;59.20.1</td>\n",
       "      <td>1.0</td>\n",
       "    </tr>\n",
       "    <tr>\n",
       "      <th>2</th>\n",
       "      <td>1207800011430</td>\n",
       "      <td>NaN</td>\n",
       "      <td>78</td>\n",
       "      <td>Санкт-Петербург</td>\n",
       "      <td>0.0</td>\n",
       "      <td>False</td>\n",
       "      <td>Коллегия адвокатов</td>\n",
       "      <td>Коллегии адвокатов</td>\n",
       "      <td>20616.0</td>\n",
       "      <td>okopf</td>\n",
       "      <td>Деятельность в области права</td>\n",
       "      <td>69.10</td>\n",
       "      <td>0.0</td>\n",
       "      <td>0.0</td>\n",
       "      <td>0.0</td>\n",
       "      <td>undefined</td>\n",
       "      <td>undefined</td>\n",
       "      <td>1.0</td>\n",
       "    </tr>\n",
       "    <tr>\n",
       "      <th>3</th>\n",
       "      <td>1207700348976</td>\n",
       "      <td>ТСН \"ЛУГИНИНО ПАРК\"</td>\n",
       "      <td>77</td>\n",
       "      <td>Москва</td>\n",
       "      <td>0.0</td>\n",
       "      <td>False</td>\n",
       "      <td>NaN</td>\n",
       "      <td>Товарищества собственников недвижимости</td>\n",
       "      <td>20700.0</td>\n",
       "      <td>okopf</td>\n",
       "      <td>Управление недвижимым имуществом за вознагражд...</td>\n",
       "      <td>68.32</td>\n",
       "      <td>0.0</td>\n",
       "      <td>0.0</td>\n",
       "      <td>0.0</td>\n",
       "      <td>Аренда и управление собственным или арендованн...</td>\n",
       "      <td>68.20;68.10</td>\n",
       "      <td>1.0</td>\n",
       "    </tr>\n",
       "    <tr>\n",
       "      <th>4</th>\n",
       "      <td>1207800081500</td>\n",
       "      <td>АНО \"ЦЕНТР \"ПЕТЕРБУРГФОРУМ\"</td>\n",
       "      <td>78</td>\n",
       "      <td>Санкт-Петербург</td>\n",
       "      <td>0.0</td>\n",
       "      <td>False</td>\n",
       "      <td>Автономная некоммерческая организация</td>\n",
       "      <td>Автономные некоммерческие организации</td>\n",
       "      <td>71400.0</td>\n",
       "      <td>okopf</td>\n",
       "      <td>Деятельность по организации конференций и выст...</td>\n",
       "      <td>82.30</td>\n",
       "      <td>0.0</td>\n",
       "      <td>0.0</td>\n",
       "      <td>0.0</td>\n",
       "      <td>Исследование конъюнктуры рынка и изучение обще...</td>\n",
       "      <td>73.20;58.11.1;93.29.9;85.41.9;88.99;70.21</td>\n",
       "      <td>1.0</td>\n",
       "    </tr>\n",
       "  </tbody>\n",
       "</table>\n",
       "</div>"
      ],
      "text/plain": [
       "            ogrn                    shortName  regionCode       regionName  \\\n",
       "0  1207800141790                        \"АМА\"          78  Санкт-Петербург   \n",
       "1  1207700349152        ФОНД \"УНИВЕРСАЛИСТ М\"          77           Москва   \n",
       "2  1207800011430                          NaN          78  Санкт-Петербург   \n",
       "3  1207700348976          ТСН \"ЛУГИНИНО ПАРК\"          77           Москва   \n",
       "4  1207800081500  АНО \"ЦЕНТР \"ПЕТЕРБУРГФОРУМ\"          78  Санкт-Петербург   \n",
       "\n",
       "   incomeTotal hasRegionalSupport  \\\n",
       "0          0.0              False   \n",
       "1          0.0              False   \n",
       "2          0.0              False   \n",
       "3          0.0              False   \n",
       "4          0.0              False   \n",
       "\n",
       "                                      minjustForm  \\\n",
       "0  Объединения (союз, ассоциация) юридических лиц   \n",
       "1                             Некоммерческий фонд   \n",
       "2                              Коллегия адвокатов   \n",
       "3                                             NaN   \n",
       "4           Автономная некоммерческая организация   \n",
       "\n",
       "                                  opf_name  opf_code opf_version  \\\n",
       "0                       Ассоциации (союзы)   20600.0       okopf   \n",
       "1                                    Фонды   70400.0       okopf   \n",
       "2                       Коллегии адвокатов   20616.0       okopf   \n",
       "3  Товарищества собственников недвижимости   20700.0       okopf   \n",
       "4    Автономные некоммерческие организации   71400.0       okopf   \n",
       "\n",
       "                                      mainOkved_name mainOkved_code  \\\n",
       "0  Деятельность профессиональных членских организ...          94.12   \n",
       "1  Предоставление прочих финансовых услуг, кроме ...          64.99   \n",
       "2                       Деятельность в области права          69.10   \n",
       "3  Управление недвижимым имуществом за вознагражд...          68.32   \n",
       "4  Деятельность по организации конференций и выст...          82.30   \n",
       "\n",
       "   sumGrants  sumFedSubsidies  sumContracts  \\\n",
       "0        0.0              0.0           0.0   \n",
       "1        0.0              0.0           0.0   \n",
       "2        0.0              0.0           0.0   \n",
       "3        0.0              0.0           0.0   \n",
       "4        0.0              0.0           0.0   \n",
       "\n",
       "                                       addOkved_name  \\\n",
       "0                                          undefined   \n",
       "1  Издание книг;Издание газет;Виды издательской д...   \n",
       "2                                          undefined   \n",
       "3  Аренда и управление собственным или арендованн...   \n",
       "4  Исследование конъюнктуры рынка и изучение обще...   \n",
       "\n",
       "                               addOkved_code  age  \n",
       "0                                  undefined  1.0  \n",
       "1                  58.11;58.13;58.19;59.20.1  1.0  \n",
       "2                                  undefined  1.0  \n",
       "3                                68.20;68.10  1.0  \n",
       "4  73.20;58.11.1;93.29.9;85.41.9;88.99;70.21  1.0  "
      ]
     },
     "metadata": {},
     "output_type": "display_data"
    }
   ],
   "source": [
    "data['dateReg'] =pd.to_datetime(data['dateReg']).dt.year.fillna(0)\n",
    "data['dateOgrn'] =pd.to_datetime(data['dateOgrn']).dt.year.fillna(0)\n",
    "data['dateLiquid'] =pd.to_datetime(data['dateLiquid']).dt.year.fillna(2021)\n",
    "data['originDate'] =pd.to_datetime(data['originDate']).dt.year.fillna(0)\n",
    "\n",
    "data['age'] = data['dateLiquid'] \n",
    "\n",
    "mask = (0 < data['dateReg']) & (data['dateReg']<=2002) & (data['dateOgrn']==0)\n",
    "data['age'][mask] -= data['dateReg'][mask]\n",
    "\n",
    "mask2 = (data['dateReg']==0) & (0<data['dateOgrn'])\n",
    "data['age'][mask2] -= data['dateOgrn'][mask2]\n",
    "\n",
    "mask3 = (0<data['dateReg']) & (0<data['dateOgrn']) \n",
    "data['age'][mask3] -= data['dateReg'][mask3]\n",
    "\n",
    "mask4 = data['age'] < 0\n",
    "data[mask4] = 0\n",
    "\n",
    "# Удаляем столбцы 'egrulStatus' и 'minjustStatus', так как они нам более не понадобятся \n",
    "# при этом, руководствуемся логикой, что НКО могла быть ликвидирована уже после получения гранта от государства\n",
    "data = data.drop(['dateReg', 'dateOgrn', 'dateLiquid', 'originDate', 'egrulStatus', 'minjustStatus'], axis=1)\n",
    "display(data.head())"
   ]
  },
  {
   "cell_type": "markdown",
   "metadata": {},
   "source": [
    "Создадим новый признак 'total_sum' суммируя признаки 'sumGrants', 'sumFedSubsidies' и 'sumContracts' (где 'sumContracts'='contracts44'+'contracts223'+'contracts94') и сравним его с уже имеющимся признаком 'incomeTotal'"
   ]
  },
  {
   "cell_type": "code",
   "execution_count": 95,
   "metadata": {},
   "outputs": [
    {
     "data": {
      "text/html": [
       "<div>\n",
       "<style scoped>\n",
       "    .dataframe tbody tr th:only-of-type {\n",
       "        vertical-align: middle;\n",
       "    }\n",
       "\n",
       "    .dataframe tbody tr th {\n",
       "        vertical-align: top;\n",
       "    }\n",
       "\n",
       "    .dataframe thead th {\n",
       "        text-align: right;\n",
       "    }\n",
       "</style>\n",
       "<table border=\"1\" class=\"dataframe\">\n",
       "  <thead>\n",
       "    <tr style=\"text-align: right;\">\n",
       "      <th></th>\n",
       "      <th>total_sum</th>\n",
       "      <th>incomeTotal</th>\n",
       "    </tr>\n",
       "  </thead>\n",
       "  <tbody>\n",
       "    <tr>\n",
       "      <th>count</th>\n",
       "      <td>7.470340e+05</td>\n",
       "      <td>7.470340e+05</td>\n",
       "    </tr>\n",
       "    <tr>\n",
       "      <th>mean</th>\n",
       "      <td>5.163821e+06</td>\n",
       "      <td>5.163821e+06</td>\n",
       "    </tr>\n",
       "    <tr>\n",
       "      <th>std</th>\n",
       "      <td>1.552095e+09</td>\n",
       "      <td>1.552095e+09</td>\n",
       "    </tr>\n",
       "    <tr>\n",
       "      <th>min</th>\n",
       "      <td>0.000000e+00</td>\n",
       "      <td>0.000000e+00</td>\n",
       "    </tr>\n",
       "    <tr>\n",
       "      <th>25%</th>\n",
       "      <td>0.000000e+00</td>\n",
       "      <td>0.000000e+00</td>\n",
       "    </tr>\n",
       "    <tr>\n",
       "      <th>50%</th>\n",
       "      <td>0.000000e+00</td>\n",
       "      <td>0.000000e+00</td>\n",
       "    </tr>\n",
       "    <tr>\n",
       "      <th>75%</th>\n",
       "      <td>0.000000e+00</td>\n",
       "      <td>0.000000e+00</td>\n",
       "    </tr>\n",
       "    <tr>\n",
       "      <th>max</th>\n",
       "      <td>1.227756e+12</td>\n",
       "      <td>1.227756e+12</td>\n",
       "    </tr>\n",
       "  </tbody>\n",
       "</table>\n",
       "</div>"
      ],
      "text/plain": [
       "          total_sum   incomeTotal\n",
       "count  7.470340e+05  7.470340e+05\n",
       "mean   5.163821e+06  5.163821e+06\n",
       "std    1.552095e+09  1.552095e+09\n",
       "min    0.000000e+00  0.000000e+00\n",
       "25%    0.000000e+00  0.000000e+00\n",
       "50%    0.000000e+00  0.000000e+00\n",
       "75%    0.000000e+00  0.000000e+00\n",
       "max    1.227756e+12  1.227756e+12"
      ]
     },
     "execution_count": 95,
     "metadata": {},
     "output_type": "execute_result"
    }
   ],
   "source": [
    "data['total_sum'] = data['sumGrants'] + data['sumFedSubsidies'] + data['sumContracts']\n",
    "data[['total_sum','incomeTotal']].describe()"
   ]
  },
  {
   "cell_type": "code",
   "execution_count": 96,
   "metadata": {},
   "outputs": [],
   "source": [
    "# столбцы 'total_sum' и 'incomeTotal'получились идентичны, удалим один из них\n",
    "data = data.drop(['total_sum', 'sumGrants', 'sumFedSubsidies', 'sumContracts'], axis=1)"
   ]
  },
  {
   "cell_type": "markdown",
   "metadata": {},
   "source": [
    "Пропуски в столбцах 'minjustForm' и 'mainOkved_name' заполним значением 'unknown' (неизвестно)"
   ]
  },
  {
   "cell_type": "code",
   "execution_count": 97,
   "metadata": {},
   "outputs": [],
   "source": [
    "data['minjustForm'] = data['minjustForm'].fillna('unknown')\n",
    "data['mainOkved_name'] = data['mainOkved_name'].fillna('unknown')"
   ]
  },
  {
   "cell_type": "markdown",
   "metadata": {},
   "source": [
    "Попробуем заполнить пропуски в столбце 'opf_name' взяв соответствующие значения из таблицы Lab_foundations_codes.csv с более точными кодами правовой формы (ОКОПФ)"
   ]
  },
  {
   "cell_type": "code",
   "execution_count": 98,
   "metadata": {},
   "outputs": [
    {
     "name": "stdout",
     "output_type": "stream",
     "text": [
      "Количество пропусков в столбце opf_name до коррекции:  opf_name    415\n",
      "dtype: int64\n",
      "Количество пропусков в столбце opf_code до коррекции:  opf_code    45209\n",
      "dtype: int64\n"
     ]
    },
    {
     "data": {
      "text/html": [
       "<div>\n",
       "<style scoped>\n",
       "    .dataframe tbody tr th:only-of-type {\n",
       "        vertical-align: middle;\n",
       "    }\n",
       "\n",
       "    .dataframe tbody tr th {\n",
       "        vertical-align: top;\n",
       "    }\n",
       "\n",
       "    .dataframe thead th {\n",
       "        text-align: right;\n",
       "    }\n",
       "</style>\n",
       "<table border=\"1\" class=\"dataframe\">\n",
       "  <thead>\n",
       "    <tr style=\"text-align: right;\">\n",
       "      <th></th>\n",
       "      <th>name</th>\n",
       "      <th>ogrn</th>\n",
       "      <th>status</th>\n",
       "      <th>region</th>\n",
       "      <th>okopf</th>\n",
       "      <th>okopf_id</th>\n",
       "    </tr>\n",
       "  </thead>\n",
       "  <tbody>\n",
       "    <tr>\n",
       "      <th>0</th>\n",
       "      <td>ФОНД \"+7\"</td>\n",
       "      <td>1.157700e+12</td>\n",
       "      <td>Действующая</td>\n",
       "      <td>Москва</td>\n",
       "      <td>Фонды</td>\n",
       "      <td>70400</td>\n",
       "    </tr>\n",
       "    <tr>\n",
       "      <th>1</th>\n",
       "      <td>100 ЛЕТ ПРОФДВИЖЕНИЯ РОССИИ, ФОНД</td>\n",
       "      <td>1.047797e+12</td>\n",
       "      <td>Действующая</td>\n",
       "      <td>Москва</td>\n",
       "      <td>Фонды</td>\n",
       "      <td>70400</td>\n",
       "    </tr>\n",
       "    <tr>\n",
       "      <th>2</th>\n",
       "      <td>100+1, ФОНД</td>\n",
       "      <td>1.167700e+12</td>\n",
       "      <td>Действующая</td>\n",
       "      <td>Москва</td>\n",
       "      <td>Фонды</td>\n",
       "      <td>70400</td>\n",
       "    </tr>\n",
       "    <tr>\n",
       "      <th>3</th>\n",
       "      <td>100-ЛЕТИЕ СССР, ФОНД</td>\n",
       "      <td>1.187700e+12</td>\n",
       "      <td>Действующая</td>\n",
       "      <td>Москва</td>\n",
       "      <td>Фонды</td>\n",
       "      <td>70400</td>\n",
       "    </tr>\n",
       "    <tr>\n",
       "      <th>4</th>\n",
       "      <td>101 КИЛОМЕТР. ПОДВИЖНИКИ МАЛОЯРОСЛАВЦА, БФ</td>\n",
       "      <td>1.167700e+12</td>\n",
       "      <td>Действующая</td>\n",
       "      <td>Москва</td>\n",
       "      <td>Благотворительные фонды</td>\n",
       "      <td>70401</td>\n",
       "    </tr>\n",
       "  </tbody>\n",
       "</table>\n",
       "</div>"
      ],
      "text/plain": [
       "                                         name          ogrn       status  \\\n",
       "0                                   ФОНД \"+7\"  1.157700e+12  Действующая   \n",
       "1           100 ЛЕТ ПРОФДВИЖЕНИЯ РОССИИ, ФОНД  1.047797e+12  Действующая   \n",
       "2                                 100+1, ФОНД  1.167700e+12  Действующая   \n",
       "3                        100-ЛЕТИЕ СССР, ФОНД  1.187700e+12  Действующая   \n",
       "4  101 КИЛОМЕТР. ПОДВИЖНИКИ МАЛОЯРОСЛАВЦА, БФ  1.167700e+12  Действующая   \n",
       "\n",
       "   region                    okopf  okopf_id  \n",
       "0  Москва                    Фонды     70400  \n",
       "1  Москва                    Фонды     70400  \n",
       "2  Москва                    Фонды     70400  \n",
       "3  Москва                    Фонды     70400  \n",
       "4  Москва  Благотворительные фонды     70401  "
      ]
     },
     "metadata": {},
     "output_type": "display_data"
    }
   ],
   "source": [
    "print('Количество пропусков в столбце opf_name до коррекции: ', data[['opf_name']].isnull().sum())\n",
    "print('Количество пропусков в столбце opf_code до коррекции: ', data[['opf_code']].isnull().sum())\n",
    "# Считываем таблицу с более точными кодами правовой формы\n",
    "tab_okopf = pd.read_csv(\"raw.githubusercontent.com_Teplitsa_CSRLab_main_Skillfactory x Teplitsa Lab_foundations_codes.csv\")\n",
    "display(tab_okopf.head())"
   ]
  },
  {
   "cell_type": "code",
   "execution_count": 99,
   "metadata": {},
   "outputs": [
    {
     "data": {
      "text/html": [
       "<div>\n",
       "<style scoped>\n",
       "    .dataframe tbody tr th:only-of-type {\n",
       "        vertical-align: middle;\n",
       "    }\n",
       "\n",
       "    .dataframe tbody tr th {\n",
       "        vertical-align: top;\n",
       "    }\n",
       "\n",
       "    .dataframe thead th {\n",
       "        text-align: right;\n",
       "    }\n",
       "</style>\n",
       "<table border=\"1\" class=\"dataframe\">\n",
       "  <thead>\n",
       "    <tr style=\"text-align: right;\">\n",
       "      <th></th>\n",
       "      <th>ogrn</th>\n",
       "      <th>shortName</th>\n",
       "      <th>regionCode</th>\n",
       "      <th>regionName</th>\n",
       "      <th>incomeTotal</th>\n",
       "      <th>hasRegionalSupport</th>\n",
       "      <th>minjustForm</th>\n",
       "      <th>opf_name</th>\n",
       "      <th>opf_code</th>\n",
       "      <th>opf_version</th>\n",
       "      <th>mainOkved_name</th>\n",
       "      <th>mainOkved_code</th>\n",
       "      <th>addOkved_name</th>\n",
       "      <th>addOkved_code</th>\n",
       "      <th>age</th>\n",
       "      <th>okopf</th>\n",
       "      <th>okopf_id</th>\n",
       "    </tr>\n",
       "  </thead>\n",
       "  <tbody>\n",
       "    <tr>\n",
       "      <th>0</th>\n",
       "      <td>1207800141790</td>\n",
       "      <td>\"АМА\"</td>\n",
       "      <td>78</td>\n",
       "      <td>Санкт-Петербург</td>\n",
       "      <td>0.0</td>\n",
       "      <td>False</td>\n",
       "      <td>Объединения (союз, ассоциация) юридических лиц</td>\n",
       "      <td>Ассоциации (союзы)</td>\n",
       "      <td>20600.0</td>\n",
       "      <td>okopf</td>\n",
       "      <td>Деятельность профессиональных членских организ...</td>\n",
       "      <td>94.12</td>\n",
       "      <td>undefined</td>\n",
       "      <td>undefined</td>\n",
       "      <td>1.0</td>\n",
       "      <td>NaN</td>\n",
       "      <td>NaN</td>\n",
       "    </tr>\n",
       "    <tr>\n",
       "      <th>1</th>\n",
       "      <td>1207700349152</td>\n",
       "      <td>ФОНД \"УНИВЕРСАЛИСТ М\"</td>\n",
       "      <td>77</td>\n",
       "      <td>Москва</td>\n",
       "      <td>0.0</td>\n",
       "      <td>False</td>\n",
       "      <td>Некоммерческий фонд</td>\n",
       "      <td>Фонды</td>\n",
       "      <td>70400.0</td>\n",
       "      <td>okopf</td>\n",
       "      <td>Предоставление прочих финансовых услуг, кроме ...</td>\n",
       "      <td>64.99</td>\n",
       "      <td>Издание книг;Издание газет;Виды издательской д...</td>\n",
       "      <td>58.11;58.13;58.19;59.20.1</td>\n",
       "      <td>1.0</td>\n",
       "      <td>Фонды</td>\n",
       "      <td>70400.0</td>\n",
       "    </tr>\n",
       "    <tr>\n",
       "      <th>2</th>\n",
       "      <td>1207800011430</td>\n",
       "      <td>NaN</td>\n",
       "      <td>78</td>\n",
       "      <td>Санкт-Петербург</td>\n",
       "      <td>0.0</td>\n",
       "      <td>False</td>\n",
       "      <td>Коллегия адвокатов</td>\n",
       "      <td>Коллегии адвокатов</td>\n",
       "      <td>20616.0</td>\n",
       "      <td>okopf</td>\n",
       "      <td>Деятельность в области права</td>\n",
       "      <td>69.10</td>\n",
       "      <td>undefined</td>\n",
       "      <td>undefined</td>\n",
       "      <td>1.0</td>\n",
       "      <td>NaN</td>\n",
       "      <td>NaN</td>\n",
       "    </tr>\n",
       "    <tr>\n",
       "      <th>3</th>\n",
       "      <td>1207700348976</td>\n",
       "      <td>ТСН \"ЛУГИНИНО ПАРК\"</td>\n",
       "      <td>77</td>\n",
       "      <td>Москва</td>\n",
       "      <td>0.0</td>\n",
       "      <td>False</td>\n",
       "      <td>unknown</td>\n",
       "      <td>Товарищества собственников недвижимости</td>\n",
       "      <td>20700.0</td>\n",
       "      <td>okopf</td>\n",
       "      <td>Управление недвижимым имуществом за вознагражд...</td>\n",
       "      <td>68.32</td>\n",
       "      <td>Аренда и управление собственным или арендованн...</td>\n",
       "      <td>68.20;68.10</td>\n",
       "      <td>1.0</td>\n",
       "      <td>NaN</td>\n",
       "      <td>NaN</td>\n",
       "    </tr>\n",
       "    <tr>\n",
       "      <th>4</th>\n",
       "      <td>1207800081500</td>\n",
       "      <td>АНО \"ЦЕНТР \"ПЕТЕРБУРГФОРУМ\"</td>\n",
       "      <td>78</td>\n",
       "      <td>Санкт-Петербург</td>\n",
       "      <td>0.0</td>\n",
       "      <td>False</td>\n",
       "      <td>Автономная некоммерческая организация</td>\n",
       "      <td>Автономные некоммерческие организации</td>\n",
       "      <td>71400.0</td>\n",
       "      <td>okopf</td>\n",
       "      <td>Деятельность по организации конференций и выст...</td>\n",
       "      <td>82.30</td>\n",
       "      <td>Исследование конъюнктуры рынка и изучение обще...</td>\n",
       "      <td>73.20;58.11.1;93.29.9;85.41.9;88.99;70.21</td>\n",
       "      <td>1.0</td>\n",
       "      <td>NaN</td>\n",
       "      <td>NaN</td>\n",
       "    </tr>\n",
       "  </tbody>\n",
       "</table>\n",
       "</div>"
      ],
      "text/plain": [
       "            ogrn                    shortName  regionCode       regionName  \\\n",
       "0  1207800141790                        \"АМА\"          78  Санкт-Петербург   \n",
       "1  1207700349152        ФОНД \"УНИВЕРСАЛИСТ М\"          77           Москва   \n",
       "2  1207800011430                          NaN          78  Санкт-Петербург   \n",
       "3  1207700348976          ТСН \"ЛУГИНИНО ПАРК\"          77           Москва   \n",
       "4  1207800081500  АНО \"ЦЕНТР \"ПЕТЕРБУРГФОРУМ\"          78  Санкт-Петербург   \n",
       "\n",
       "   incomeTotal hasRegionalSupport  \\\n",
       "0          0.0              False   \n",
       "1          0.0              False   \n",
       "2          0.0              False   \n",
       "3          0.0              False   \n",
       "4          0.0              False   \n",
       "\n",
       "                                      minjustForm  \\\n",
       "0  Объединения (союз, ассоциация) юридических лиц   \n",
       "1                             Некоммерческий фонд   \n",
       "2                              Коллегия адвокатов   \n",
       "3                                         unknown   \n",
       "4           Автономная некоммерческая организация   \n",
       "\n",
       "                                  opf_name  opf_code opf_version  \\\n",
       "0                       Ассоциации (союзы)   20600.0       okopf   \n",
       "1                                    Фонды   70400.0       okopf   \n",
       "2                       Коллегии адвокатов   20616.0       okopf   \n",
       "3  Товарищества собственников недвижимости   20700.0       okopf   \n",
       "4    Автономные некоммерческие организации   71400.0       okopf   \n",
       "\n",
       "                                      mainOkved_name mainOkved_code  \\\n",
       "0  Деятельность профессиональных членских организ...          94.12   \n",
       "1  Предоставление прочих финансовых услуг, кроме ...          64.99   \n",
       "2                       Деятельность в области права          69.10   \n",
       "3  Управление недвижимым имуществом за вознагражд...          68.32   \n",
       "4  Деятельность по организации конференций и выст...          82.30   \n",
       "\n",
       "                                       addOkved_name  \\\n",
       "0                                          undefined   \n",
       "1  Издание книг;Издание газет;Виды издательской д...   \n",
       "2                                          undefined   \n",
       "3  Аренда и управление собственным или арендованн...   \n",
       "4  Исследование конъюнктуры рынка и изучение обще...   \n",
       "\n",
       "                               addOkved_code  age  okopf  okopf_id  \n",
       "0                                  undefined  1.0    NaN       NaN  \n",
       "1                  58.11;58.13;58.19;59.20.1  1.0  Фонды   70400.0  \n",
       "2                                  undefined  1.0    NaN       NaN  \n",
       "3                                68.20;68.10  1.0    NaN       NaN  \n",
       "4  73.20;58.11.1;93.29.9;85.41.9;88.99;70.21  1.0    NaN       NaN  "
      ]
     },
     "metadata": {},
     "output_type": "display_data"
    }
   ],
   "source": [
    "data = data.merge(tab_okopf[['ogrn', 'okopf', 'okopf_id']], left_on='ogrn', right_on='ogrn', how='left') \n",
    "display(data.head())"
   ]
  },
  {
   "cell_type": "code",
   "execution_count": 100,
   "metadata": {},
   "outputs": [
    {
     "name": "stdout",
     "output_type": "stream",
     "text": [
      "Количество пропусков в столбце opf_name после коррекции:  opf_name    415\n",
      "dtype: int64\n",
      "Количество пропусков в столбце opf_code после коррекции:  opf_code    45208\n",
      "dtype: int64\n"
     ]
    }
   ],
   "source": [
    "mask1 = data['opf_name'].isnull() \n",
    "data['opf_name'][mask1] = data['okopf'][mask1]\n",
    "mask2 = data['opf_code'].isnull() \n",
    "data['opf_code'][mask2] = data['okopf_id'][mask2]\n",
    "\n",
    "print('Количество пропусков в столбце opf_name после коррекции: ', data[['opf_name']].isnull().sum())\n",
    "print('Количество пропусков в столбце opf_code после коррекции: ', data[['opf_code']].isnull().sum())"
   ]
  },
  {
   "cell_type": "markdown",
   "metadata": {},
   "source": [
    "Не получилось заполнить пропуски в столбцах 'opf_name' и 'opf_code' взятием информации из таблицы 'Lab_foundations_codes.csv', поэтому заполним их значениями 'unknown' и 0 соответственно."
   ]
  },
  {
   "cell_type": "code",
   "execution_count": 101,
   "metadata": {},
   "outputs": [],
   "source": [
    "data = data.drop(['okopf', 'okopf_id'], axis=1)\n",
    "data['opf_name'] = data['opf_name'].fillna('unknown')\n",
    "data['opf_code'] = data['opf_code'].fillna(0)"
   ]
  },
  {
   "cell_type": "markdown",
   "metadata": {},
   "source": [
    "Создадим целевой признак 'incomeTotal_target', котоый будет принимать два значения 0 и 1. 1 - НКО получала деньги от государства, 0 - нет. Так же будем учитывать данные из столбца 'hasRegionalSupport' - организация была получателем региональной поддержки в качестве СО НКО."
   ]
  },
  {
   "cell_type": "code",
   "execution_count": 102,
   "metadata": {},
   "outputs": [],
   "source": [
    "mask = data['incomeTotal']>1\n",
    "data['incomeTotal_target'] = (mask | data['hasRegionalSupport']).astype(int)"
   ]
  },
  {
   "cell_type": "markdown",
   "metadata": {},
   "source": [
    "### 2.2. Визуализация данных"
   ]
  },
  {
   "cell_type": "code",
   "execution_count": 103,
   "metadata": {},
   "outputs": [
    {
     "data": {
      "image/png": "[encoded data removed]",
      "text/plain": [
       "<Figure size 1000x500 with 1 Axes>"
      ]
     },
     "metadata": {},
     "output_type": "display_data"
    }
   ],
   "source": [
    "fig, axes = plt.subplots(nrows=1, ncols=1, figsize=(10, 5))\n",
    "plt.subplots_adjust(hspace=.0)\n",
    "histplot1 = sns.histplot(\n",
    "    data=data, \n",
    "    x='age', \n",
    "    bins=30    \n",
    ")\n",
    "histplot1.set_title('Распределение возраста НКО (в годах)', fontsize=16)\n",
    "histplot1.set_xlabel('Возраст НКО (кол-во лет)')\n",
    "histplot1.set_ylabel('Количество НКО')\n",
    "histplot1.grid()"
   ]
  },
  {
   "cell_type": "markdown",
   "metadata": {},
   "source": [
    "Из гистограммы видим, что возраст большинства НКО варьирует в диапазоне 5-10 лет."
   ]
  },
  {
   "cell_type": "code",
   "execution_count": 104,
   "metadata": {},
   "outputs": [
    {
     "data": {
      "image/png": "[encoded data removed]",
      "text/plain": [
       "<Figure size 1000x500 with 1 Axes>"
      ]
     },
     "metadata": {},
     "output_type": "display_data"
    }
   ],
   "source": [
    "fig = plt.figure(figsize=(10, 5))\n",
    "boxplot = sns.boxplot(\n",
    "    data=data,\n",
    "    y='incomeTotal_target',\n",
    "    x='age',\n",
    "    orient='h',\n",
    "    width=0.7\n",
    ")\n",
    "boxplot.set_title('Распределение возраста НКО разрезе признака получивших/не получивших господдержку');\n",
    "boxplot.set_xlabel('Возраст НКО');\n",
    "boxplot.set_ylabel('Признак получения господдержки');\n",
    "boxplot.grid()"
   ]
  },
  {
   "cell_type": "markdown",
   "metadata": {},
   "source": [
    "Из графика коробчатой диаграммы видим, что возраст НКО, получивших гос.поддержку смещен к 15 годам."
   ]
  },
  {
   "cell_type": "code",
   "execution_count": 105,
   "metadata": {},
   "outputs": [
    {
     "data": {
      "application/vnd.plotly.v1+json": {
       "config": {
        "plotlyServerURL": "https://plot.ly"
       },
       "data": [
        {
         "branchvalues": "total",
         "domain": {
          "x": [
           0,
           1
          ],
          "y": [
           0,
           1
          ]
         },
         "hovertemplate": "labels=%{label}<br>frac=%{value}<br>parent=%{parent}<br>id=%{id}<extra></extra>",
         "ids": [
          "Алтайский край",
          "Волгоградская область",
          "Иркутская область",
          "Краснодарский край",
          "Красноярский край",
          "Москва",
          "Московская область",
          "Нижегородская область",
          "Новосибирская область",
          "Омская область",
          "Пермский край",
          "Приморский край",
          "Республика Башкортостан",
          "Республика Татарстан",
          "Ростовская область",
          "Самарская область",
          "Санкт-Петербург",
          "Саратовская область",
          "Свердловская область",
          "Челябинская область"
         ],
         "labels": [
          "Алтайский край",
          "Волгоградская область",
          "Иркутская область",
          "Краснодарский край",
          "Красноярский край",
          "Москва",
          "Московская область",
          "Нижегородская область",
          "Новосибирская область",
          "Омская область",
          "Пермский край",
          "Приморский край",
          "Республика Башкортостан",
          "Республика Татарстан",
          "Ростовская область",
          "Самарская область",
          "Санкт-Петербург",
          "Саратовская область",
          "Свердловская область",
          "Челябинская область"
         ],
         "name": "",
         "parents": [
          "",
          "",
          "",
          "",
          "",
          "",
          "",
          "",
          "",
          "",
          "",
          "",
          "",
          "",
          "",
          "",
          "",
          "",
          "",
          ""
         ],
         "type": "treemap",
         "values": [
          0.014592374644259833,
          0.0156472128443953,
          0.016835913760284003,
          0.03123552609385918,
          0.019597501586273183,
          0.10732844823662645,
          0.050768773576570815,
          0.022881154003699965,
          0.022984228294829954,
          0.014051569272616775,
          0.020111534414765594,
          0.016959067458776976,
          0.022142231812742125,
          0.02289454027527529,
          0.023929299068047773,
          0.020748720941750978,
          0.04252416891332925,
          0.018098239169836983,
          0.030828583437969355,
          0.01696709922172217
         ]
        }
       ],
       "layout": {
        "height": 500,
        "legend": {
         "tracegroupgap": 0
        },
        "template": {
         "data": {
          "bar": [
           {
            "error_x": {
             "color": "#2a3f5f"
            },
            "error_y": {
             "color": "#2a3f5f"
            },
            "marker": {
             "line": {
              "color": "#E5ECF6",
              "width": 0.5
             },
             "pattern": {
              "fillmode": "overlay",
              "size": 10,
              "solidity": 0.2
             }
            },
            "type": "bar"
           }
          ],
          "barpolar": [
           {
            "marker": {
             "line": {
              "color": "#E5ECF6",
              "width": 0.5
             },
             "pattern": {
              "fillmode": "overlay",
              "size": 10,
              "solidity": 0.2
             }
            },
            "type": "barpolar"
           }
          ],
          "carpet": [
           {
            "aaxis": {
             "endlinecolor": "#2a3f5f",
             "gridcolor": "white",
             "linecolor": "white",
             "minorgridcolor": "white",
             "startlinecolor": "#2a3f5f"
            },
            "baxis": {
             "endlinecolor": "#2a3f5f",
             "gridcolor": "white",
             "linecolor": "white",
             "minorgridcolor": "white",
             "startlinecolor": "#2a3f5f"
            },
            "type": "carpet"
           }
          ],
          "choropleth": [
           {
            "colorbar": {
             "outlinewidth": 0,
             "ticks": ""
            },
            "type": "choropleth"
           }
          ],
          "contour": [
           {
            "colorbar": {
             "outlinewidth": 0,
             "ticks": ""
            },
            "colorscale": [
             [
              0,
              "#0d0887"
             ],
             [
              0.1111111111111111,
              "#46039f"
             ],
             [
              0.2222222222222222,
              "#7201a8"
             ],
             [
              0.3333333333333333,
              "#9c179e"
             ],
             [
              0.4444444444444444,
              "#bd3786"
             ],
             [
              0.5555555555555556,
              "#d8576b"
             ],
             [
              0.6666666666666666,
              "#ed7953"
             ],
             [
              0.7777777777777778,
              "#fb9f3a"
             ],
             [
              0.8888888888888888,
              "#fdca26"
             ],
             [
              1,
              "#f0f921"
             ]
            ],
            "type": "contour"
           }
          ],
          "contourcarpet": [
           {
            "colorbar": {
             "outlinewidth": 0,
             "ticks": ""
            },
            "type": "contourcarpet"
           }
          ],
          "heatmap": [
           {
            "colorbar": {
             "outlinewidth": 0,
             "ticks": ""
            },
            "colorscale": [
             [
              0,
              "#0d0887"
             ],
             [
              0.1111111111111111,
              "#46039f"
             ],
             [
              0.2222222222222222,
              "#7201a8"
             ],
             [
              0.3333333333333333,
              "#9c179e"
             ],
             [
              0.4444444444444444,
              "#bd3786"
             ],
             [
              0.5555555555555556,
              "#d8576b"
             ],
             [
              0.6666666666666666,
              "#ed7953"
             ],
             [
              0.7777777777777778,
              "#fb9f3a"
             ],
             [
              0.8888888888888888,
              "#fdca26"
             ],
             [
              1,
              "#f0f921"
             ]
            ],
            "type": "heatmap"
           }
          ],
          "heatmapgl": [
           {
            "colorbar": {
             "outlinewidth": 0,
             "ticks": ""
            },
            "colorscale": [
             [
              0,
              "#0d0887"
             ],
             [
              0.1111111111111111,
              "#46039f"
             ],
             [
              0.2222222222222222,
              "#7201a8"
             ],
             [
              0.3333333333333333,
              "#9c179e"
             ],
             [
              0.4444444444444444,
              "#bd3786"
             ],
             [
              0.5555555555555556,
              "#d8576b"
             ],
             [
              0.6666666666666666,
              "#ed7953"
             ],
             [
              0.7777777777777778,
              "#fb9f3a"
             ],
             [
              0.8888888888888888,
              "#fdca26"
             ],
             [
              1,
              "#f0f921"
             ]
            ],
            "type": "heatmapgl"
           }
          ],
          "histogram": [
           {
            "marker": {
             "pattern": {
              "fillmode": "overlay",
              "size": 10,
              "solidity": 0.2
             }
            },
            "type": "histogram"
           }
          ],
          "histogram2d": [
           {
            "colorbar": {
             "outlinewidth": 0,
             "ticks": ""
            },
            "colorscale": [
             [
              0,
              "#0d0887"
             ],
             [
              0.1111111111111111,
              "#46039f"
             ],
             [
              0.2222222222222222,
              "#7201a8"
             ],
             [
              0.3333333333333333,
              "#9c179e"
             ],
             [
              0.4444444444444444,
              "#bd3786"
             ],
             [
              0.5555555555555556,
              "#d8576b"
             ],
             [
              0.6666666666666666,
              "#ed7953"
             ],
             [
              0.7777777777777778,
              "#fb9f3a"
             ],
             [
              0.8888888888888888,
              "#fdca26"
             ],
             [
              1,
              "#f0f921"
             ]
            ],
            "type": "histogram2d"
           }
          ],
          "histogram2dcontour": [
           {
            "colorbar": {
             "outlinewidth": 0,
             "ticks": ""
            },
            "colorscale": [
             [
              0,
              "#0d0887"
             ],
             [
              0.1111111111111111,
              "#46039f"
             ],
             [
              0.2222222222222222,
              "#7201a8"
             ],
             [
              0.3333333333333333,
              "#9c179e"
             ],
             [
              0.4444444444444444,
              "#bd3786"
             ],
             [
              0.5555555555555556,
              "#d8576b"
             ],
             [
              0.6666666666666666,
              "#ed7953"
             ],
             [
              0.7777777777777778,
              "#fb9f3a"
             ],
             [
              0.8888888888888888,
              "#fdca26"
             ],
             [
              1,
              "#f0f921"
             ]
            ],
            "type": "histogram2dcontour"
           }
          ],
          "mesh3d": [
           {
            "colorbar": {
             "outlinewidth": 0,
             "ticks": ""
            },
            "type": "mesh3d"
           }
          ],
          "parcoords": [
           {
            "line": {
             "colorbar": {
              "outlinewidth": 0,
              "ticks": ""
             }
            },
            "type": "parcoords"
           }
          ],
          "pie": [
           {
            "automargin": true,
            "type": "pie"
           }
          ],
          "scatter": [
           {
            "fillpattern": {
             "fillmode": "overlay",
             "size": 10,
             "solidity": 0.2
            },
            "type": "scatter"
           }
          ],
          "scatter3d": [
           {
            "line": {
             "colorbar": {
              "outlinewidth": 0,
              "ticks": ""
             }
            },
            "marker": {
             "colorbar": {
              "outlinewidth": 0,
              "ticks": ""
             }
            },
            "type": "scatter3d"
           }
          ],
          "scattercarpet": [
           {
            "marker": {
             "colorbar": {
              "outlinewidth": 0,
              "ticks": ""
             }
            },
            "type": "scattercarpet"
           }
          ],
          "scattergeo": [
           {
            "marker": {
             "colorbar": {
              "outlinewidth": 0,
              "ticks": ""
             }
            },
            "type": "scattergeo"
           }
          ],
          "scattergl": [
           {
            "marker": {
             "colorbar": {
              "outlinewidth": 0,
              "ticks": ""
             }
            },
            "type": "scattergl"
           }
          ],
          "scattermapbox": [
           {
            "marker": {
             "colorbar": {
              "outlinewidth": 0,
              "ticks": ""
             }
            },
            "type": "scattermapbox"
           }
          ],
          "scatterpolar": [
           {
            "marker": {
             "colorbar": {
              "outlinewidth": 0,
              "ticks": ""
             }
            },
            "type": "scatterpolar"
           }
          ],
          "scatterpolargl": [
           {
            "marker": {
             "colorbar": {
              "outlinewidth": 0,
              "ticks": ""
             }
            },
            "type": "scatterpolargl"
           }
          ],
          "scatterternary": [
           {
            "marker": {
             "colorbar": {
              "outlinewidth": 0,
              "ticks": ""
             }
            },
            "type": "scatterternary"
           }
          ],
          "surface": [
           {
            "colorbar": {
             "outlinewidth": 0,
             "ticks": ""
            },
            "colorscale": [
             [
              0,
              "#0d0887"
             ],
             [
              0.1111111111111111,
              "#46039f"
             ],
             [
              0.2222222222222222,
              "#7201a8"
             ],
             [
              0.3333333333333333,
              "#9c179e"
             ],
             [
              0.4444444444444444,
              "#bd3786"
             ],
             [
              0.5555555555555556,
              "#d8576b"
             ],
             [
              0.6666666666666666,
              "#ed7953"
             ],
             [
              0.7777777777777778,
              "#fb9f3a"
             ],
             [
              0.8888888888888888,
              "#fdca26"
             ],
             [
              1,
              "#f0f921"
             ]
            ],
            "type": "surface"
           }
          ],
          "table": [
           {
            "cells": {
             "fill": {
              "color": "#EBF0F8"
             },
             "line": {
              "color": "white"
             }
            },
            "header": {
             "fill": {
              "color": "#C8D4E3"
             },
             "line": {
              "color": "white"
             }
            },
            "type": "table"
           }
          ]
         },
         "layout": {
          "annotationdefaults": {
           "arrowcolor": "#2a3f5f",
           "arrowhead": 0,
           "arrowwidth": 1
          },
          "autotypenumbers": "strict",
          "coloraxis": {
           "colorbar": {
            "outlinewidth": 0,
            "ticks": ""
           }
          },
          "colorscale": {
           "diverging": [
            [
             0,
             "#8e0152"
            ],
            [
             0.1,
             "#c51b7d"
            ],
            [
             0.2,
             "#de77ae"
            ],
            [
             0.3,
             "#f1b6da"
            ],
            [
             0.4,
             "#fde0ef"
            ],
            [
             0.5,
             "#f7f7f7"
            ],
            [
             0.6,
             "#e6f5d0"
            ],
            [
             0.7,
             "#b8e186"
            ],
            [
             0.8,
             "#7fbc41"
            ],
            [
             0.9,
             "#4d9221"
            ],
            [
             1,
             "#276419"
            ]
           ],
           "sequential": [
            [
             0,
             "#0d0887"
            ],
            [
             0.1111111111111111,
             "#46039f"
            ],
            [
             0.2222222222222222,
             "#7201a8"
            ],
            [
             0.3333333333333333,
             "#9c179e"
            ],
            [
             0.4444444444444444,
             "#bd3786"
            ],
            [
             0.5555555555555556,
             "#d8576b"
            ],
            [
             0.6666666666666666,
             "#ed7953"
            ],
            [
             0.7777777777777778,
             "#fb9f3a"
            ],
            [
             0.8888888888888888,
             "#fdca26"
            ],
            [
             1,
             "#f0f921"
            ]
           ],
           "sequentialminus": [
            [
             0,
             "#0d0887"
            ],
            [
             0.1111111111111111,
             "#46039f"
            ],
            [
             0.2222222222222222,
             "#7201a8"
            ],
            [
             0.3333333333333333,
             "#9c179e"
            ],
            [
             0.4444444444444444,
             "#bd3786"
            ],
            [
             0.5555555555555556,
             "#d8576b"
            ],
            [
             0.6666666666666666,
             "#ed7953"
            ],
            [
             0.7777777777777778,
             "#fb9f3a"
            ],
            [
             0.8888888888888888,
             "#fdca26"
            ],
            [
             1,
             "#f0f921"
            ]
           ]
          },
          "colorway": [
           "#636efa",
           "#EF553B",
           "#00cc96",
           "#ab63fa",
           "#FFA15A",
           "#19d3f3",
           "#FF6692",
           "#B6E880",
           "#FF97FF",
           "#FECB52"
          ],
          "font": {
           "color": "#2a3f5f"
          },
          "geo": {
           "bgcolor": "white",
           "lakecolor": "white",
           "landcolor": "#E5ECF6",
           "showlakes": true,
           "showland": true,
           "subunitcolor": "white"
          },
          "hoverlabel": {
           "align": "left"
          },
          "hovermode": "closest",
          "mapbox": {
           "style": "light"
          },
          "paper_bgcolor": "white",
          "plot_bgcolor": "#E5ECF6",
          "polar": {
           "angularaxis": {
            "gridcolor": "white",
            "linecolor": "white",
            "ticks": ""
           },
           "bgcolor": "#E5ECF6",
           "radialaxis": {
            "gridcolor": "white",
            "linecolor": "white",
            "ticks": ""
           }
          },
          "scene": {
           "xaxis": {
            "backgroundcolor": "#E5ECF6",
            "gridcolor": "white",
            "gridwidth": 2,
            "linecolor": "white",
            "showbackground": true,
            "ticks": "",
            "zerolinecolor": "white"
           },
           "yaxis": {
            "backgroundcolor": "#E5ECF6",
            "gridcolor": "white",
            "gridwidth": 2,
            "linecolor": "white",
            "showbackground": true,
            "ticks": "",
            "zerolinecolor": "white"
           },
           "zaxis": {
            "backgroundcolor": "#E5ECF6",
            "gridcolor": "white",
            "gridwidth": 2,
            "linecolor": "white",
            "showbackground": true,
            "ticks": "",
            "zerolinecolor": "white"
           }
          },
          "shapedefaults": {
           "line": {
            "color": "#2a3f5f"
           }
          },
          "ternary": {
           "aaxis": {
            "gridcolor": "white",
            "linecolor": "white",
            "ticks": ""
           },
           "baxis": {
            "gridcolor": "white",
            "linecolor": "white",
            "ticks": ""
           },
           "bgcolor": "#E5ECF6",
           "caxis": {
            "gridcolor": "white",
            "linecolor": "white",
            "ticks": ""
           }
          },
          "title": {
           "x": 0.05
          },
          "xaxis": {
           "automargin": true,
           "gridcolor": "white",
           "linecolor": "white",
           "ticks": "",
           "title": {
            "standoff": 15
           },
           "zerolinecolor": "white",
           "zerolinewidth": 2
          },
          "yaxis": {
           "automargin": true,
           "gridcolor": "white",
           "linecolor": "white",
           "ticks": "",
           "title": {
            "standoff": 15
           },
           "zerolinecolor": "white",
           "zerolinewidth": 2
          }
         }
        },
        "title": {
         "text": "Соотношение регионов, где зарегистрированы НКО"
        },
        "width": 1000
       }
      }
     },
     "metadata": {},
     "output_type": "display_data"
    }
   ],
   "source": [
    "data_tmp = data['regionName'].value_counts(normalize=True).sort_values(ascending=False).head(20).reset_index(name='frac')\n",
    "#display(data_tmp)\n",
    "#строим график\n",
    "fig = px.treemap(\n",
    "    data_frame=data_tmp, \n",
    "    path=['index'], #категориальный признак, для которого строится график \n",
    "    values='frac', #параметр, который сравнивается\n",
    "    height=500, #высота\n",
    "    width=1000, #ширина\n",
    "    title='Соотношение регионов, где зарегистрированы НКО' #заголовок\n",
    ")\n",
    "#отображаем график\n",
    "fig.show()"
   ]
  },
  {
   "cell_type": "markdown",
   "metadata": {},
   "source": [
    "Иерархическая диаграмма демонстрирует нам, что большинство НКО зарегистрированы в Москве. Можно предположить, что наибольшее число НКО получивших деньги от государства, так же зарегистрированы в Москве."
   ]
  },
  {
   "cell_type": "code",
   "execution_count": 106,
   "metadata": {},
   "outputs": [
    {
     "data": {
      "image/png": "[encoded data removed]",
      "text/plain": [
       "<Figure size 500x500 with 1 Axes>"
      ]
     },
     "metadata": {},
     "output_type": "display_data"
    }
   ],
   "source": [
    "mask_1=data['incomeTotal_target']>0\n",
    "mask_0=data['incomeTotal_target']==0\n",
    "\n",
    "tab = data[mask_1]['mainOkved_name'].value_counts().sort_values(ascending=False).head(15)\n",
    "#display(tab)\n",
    "fig = plt.figure(figsize=(5,5))\n",
    "axes = fig.add_axes([0,0,1,1])\n",
    "axes.pie(\n",
    "    tab,    \n",
    "    labels=tab.index,\n",
    "    autopct='%.1f%%'      \n",
    ");\n",
    "axes.set_title('Экономическая деятельность НКО, получивших деньги от государства', fontsize=16);"
   ]
  },
  {
   "cell_type": "markdown",
   "metadata": {},
   "source": [
    "Из графика видно, что экономическая деятельность наибольшего количество НКО получающих гос.поддержку определяется как 'деятельность прочих общественных организаций'. "
   ]
  },
  {
   "cell_type": "code",
   "execution_count": 107,
   "metadata": {},
   "outputs": [
    {
     "data": {
      "image/png": "[encoded data removed]",
      "text/plain": [
       "<Figure size 2000x1000 with 4 Axes>"
      ]
     },
     "metadata": {},
     "output_type": "display_data"
    }
   ],
   "source": [
    "mf_1 = data[mask_1]['minjustForm'].value_counts().sort_values(ascending=False).head(7)\n",
    "mf_0 = data[mask_0]['minjustForm'].value_counts().sort_values(ascending=False).head(7)\n",
    "\n",
    "opf_1 = data[mask_1]['opf_name'].value_counts().sort_values(ascending=False).head(7)\n",
    "opf_0 = data[mask_0]['opf_name'].value_counts().sort_values(ascending=False).head(7)\n",
    "\n",
    "fig, axes = plt.subplots(nrows=2, ncols=2, figsize=(20, 10))\n",
    "\n",
    "axes[0,0].pie(\n",
    "    mf_1,\n",
    "    labels=mf_1.index,\n",
    "    autopct='%.0f%%'\n",
    "    #explode = [0.05, 0]\n",
    ");\n",
    "axes[0,0].set_title('Форма НКО по Минюсту получившие гос.поддержку', fontsize=12); # форма НКО, согласно системе Минюста РФ\n",
    "\n",
    "axes[0,1].pie(\n",
    "    mf_0,\n",
    "    labels=mf_0.index,\n",
    "    autopct='%.0f%%'\n",
    "    #explode = [0.05, 0]\n",
    ");\n",
    "axes[0,1].set_title('Форма НКО по Минюсту НЕ получившие гос.поддержку', fontsize=12);\n",
    "\n",
    "axes[1,0].pie(\n",
    "    opf_1,\n",
    "    labels=opf_1.index,\n",
    "    autopct='%.0f%%'\n",
    "    #explode = [0.05, 0]\n",
    ");\n",
    "axes[1,0].set_title('Форма НКО по ЕГРЮЛ получившие гос.поддержку', fontsize=12); # сведения об организационно-правовой форме (ОПФ) организации на основании данных ЕГРЮЛ\n",
    "\n",
    "axes[1,1].pie(\n",
    "    opf_0,\n",
    "    labels=opf_0.index,\n",
    "    autopct='%.0f%%'\n",
    "    #explode = [0.05, 0]\n",
    ");\n",
    "axes[1,1].set_title('Форма НКО по ЕГРЮЛ НЕ получившие гос.поддержку', fontsize=12);"
   ]
  },
  {
   "cell_type": "markdown",
   "metadata": {},
   "source": [
    "Круговая диаграмма носит информационно-ознакомительный характер. Можем сравнить как отличаются формы НКО получившие гос. финансирование, зарегистрированные согласно системе Минюста и на основании данных ЕГРЮЛ. Видим, что форма НКО по системе Минюста и на основании ЕГРЮЛ очень похожи, а их различие можно списать на несогласованность баз данных разных ведомств. Поэтому в дальнейшем предлагается отказаться от анализа данных столбца 'minjustForm' и удалить его из датасета."
   ]
  },
  {
   "cell_type": "code",
   "execution_count": 108,
   "metadata": {},
   "outputs": [
    {
     "data": {
      "application/vnd.plotly.v1+json": {
       "config": {
        "plotlyServerURL": "https://plot.ly"
       },
       "data": [
        {
         "alignmentgroup": "True",
         "hovertemplate": "regionName=%{x}<br>incomeTotal=%{y}<extra></extra>",
         "legendgroup": "Москва",
         "marker": {
          "color": "#636efa",
          "pattern": {
           "shape": ""
          }
         },
         "name": "Москва",
         "offsetgroup": "Москва",
         "orientation": "v",
         "showlegend": true,
         "textposition": "auto",
         "type": "bar",
         "x": [
          "Москва"
         ],
         "xaxis": "x",
         "y": [
          608698408.5883763
         ],
         "yaxis": "y"
        },
        {
         "alignmentgroup": "True",
         "hovertemplate": "regionName=%{x}<br>incomeTotal=%{y}<extra></extra>",
         "legendgroup": "Магаданская область",
         "marker": {
          "color": "#EF553B",
          "pattern": {
           "shape": ""
          }
         },
         "name": "Магаданская область",
         "offsetgroup": "Магаданская область",
         "orientation": "v",
         "showlegend": true,
         "textposition": "auto",
         "type": "bar",
         "x": [
          "Магаданская область"
         ],
         "xaxis": "x",
         "y": [
          81895494.13366666
         ],
         "yaxis": "y"
        },
        {
         "alignmentgroup": "True",
         "hovertemplate": "regionName=%{x}<br>incomeTotal=%{y}<extra></extra>",
         "legendgroup": "Чукотский автономный округ",
         "marker": {
          "color": "#00cc96",
          "pattern": {
           "shape": ""
          }
         },
         "name": "Чукотский автономный округ",
         "offsetgroup": "Чукотский автономный округ",
         "orientation": "v",
         "showlegend": true,
         "textposition": "auto",
         "type": "bar",
         "x": [
          "Чукотский автономный округ"
         ],
         "xaxis": "x",
         "y": [
          69701058.89842106
         ],
         "yaxis": "y"
        },
        {
         "alignmentgroup": "True",
         "hovertemplate": "regionName=%{x}<br>incomeTotal=%{y}<extra></extra>",
         "legendgroup": "Кемеровская область",
         "marker": {
          "color": "#ab63fa",
          "pattern": {
           "shape": ""
          }
         },
         "name": "Кемеровская область",
         "offsetgroup": "Кемеровская область",
         "orientation": "v",
         "showlegend": true,
         "textposition": "auto",
         "type": "bar",
         "x": [
          "Кемеровская область"
         ],
         "xaxis": "x",
         "y": [
          58153623.09674365
         ],
         "yaxis": "y"
        },
        {
         "alignmentgroup": "True",
         "hovertemplate": "regionName=%{x}<br>incomeTotal=%{y}<extra></extra>",
         "legendgroup": "Краснодарский край",
         "marker": {
          "color": "#FFA15A",
          "pattern": {
           "shape": ""
          }
         },
         "name": "Краснодарский край",
         "offsetgroup": "Краснодарский край",
         "orientation": "v",
         "showlegend": true,
         "textposition": "auto",
         "type": "bar",
         "x": [
          "Краснодарский край"
         ],
         "xaxis": "x",
         "y": [
          57204732.77618805
         ],
         "yaxis": "y"
        },
        {
         "alignmentgroup": "True",
         "hovertemplate": "regionName=%{x}<br>incomeTotal=%{y}<extra></extra>",
         "legendgroup": "Республика Татарстан",
         "marker": {
          "color": "#19d3f3",
          "pattern": {
           "shape": ""
          }
         },
         "name": "Республика Татарстан",
         "offsetgroup": "Республика Татарстан",
         "orientation": "v",
         "showlegend": true,
         "textposition": "auto",
         "type": "bar",
         "x": [
          "Республика Татарстан"
         ],
         "xaxis": "x",
         "y": [
          54959374.519049324
         ],
         "yaxis": "y"
        },
        {
         "alignmentgroup": "True",
         "hovertemplate": "regionName=%{x}<br>incomeTotal=%{y}<extra></extra>",
         "legendgroup": "Республика Хакасия",
         "marker": {
          "color": "#FF6692",
          "pattern": {
           "shape": ""
          }
         },
         "name": "Республика Хакасия",
         "offsetgroup": "Республика Хакасия",
         "orientation": "v",
         "showlegend": true,
         "textposition": "auto",
         "type": "bar",
         "x": [
          "Республика Хакасия"
         ],
         "xaxis": "x",
         "y": [
          43508503.80805086
         ],
         "yaxis": "y"
        },
        {
         "alignmentgroup": "True",
         "hovertemplate": "regionName=%{x}<br>incomeTotal=%{y}<extra></extra>",
         "legendgroup": "Ханты-Мансийский автономный округ - Югра",
         "marker": {
          "color": "#B6E880",
          "pattern": {
           "shape": ""
          }
         },
         "name": "Ханты-Мансийский автономный округ - Югра",
         "offsetgroup": "Ханты-Мансийский автономный округ - Югра",
         "orientation": "v",
         "showlegend": true,
         "textposition": "auto",
         "type": "bar",
         "x": [
          "Ханты-Мансийский автономный округ - Югра"
         ],
         "xaxis": "x",
         "y": [
          36794874.55886537
         ],
         "yaxis": "y"
        },
        {
         "alignmentgroup": "True",
         "hovertemplate": "regionName=%{x}<br>incomeTotal=%{y}<extra></extra>",
         "legendgroup": "Ставропольский край",
         "marker": {
          "color": "#FF97FF",
          "pattern": {
           "shape": ""
          }
         },
         "name": "Ставропольский край",
         "offsetgroup": "Ставропольский край",
         "orientation": "v",
         "showlegend": true,
         "textposition": "auto",
         "type": "bar",
         "x": [
          "Ставропольский край"
         ],
         "xaxis": "x",
         "y": [
          33568451.86696842
         ],
         "yaxis": "y"
        },
        {
         "alignmentgroup": "True",
         "hovertemplate": "regionName=%{x}<br>incomeTotal=%{y}<extra></extra>",
         "legendgroup": "Псковская область",
         "marker": {
          "color": "#FECB52",
          "pattern": {
           "shape": ""
          }
         },
         "name": "Псковская область",
         "offsetgroup": "Псковская область",
         "orientation": "v",
         "showlegend": true,
         "textposition": "auto",
         "type": "bar",
         "x": [
          "Псковская область"
         ],
         "xaxis": "x",
         "y": [
          29886704.613459457
         ],
         "yaxis": "y"
        }
       ],
       "layout": {
        "barmode": "relative",
        "height": 500,
        "legend": {
         "title": {
          "text": "regionName"
         },
         "tracegroupgap": 0
        },
        "template": {
         "data": {
          "bar": [
           {
            "error_x": {
             "color": "#2a3f5f"
            },
            "error_y": {
             "color": "#2a3f5f"
            },
            "marker": {
             "line": {
              "color": "#E5ECF6",
              "width": 0.5
             },
             "pattern": {
              "fillmode": "overlay",
              "size": 10,
              "solidity": 0.2
             }
            },
            "type": "bar"
           }
          ],
          "barpolar": [
           {
            "marker": {
             "line": {
              "color": "#E5ECF6",
              "width": 0.5
             },
             "pattern": {
              "fillmode": "overlay",
              "size": 10,
              "solidity": 0.2
             }
            },
            "type": "barpolar"
           }
          ],
          "carpet": [
           {
            "aaxis": {
             "endlinecolor": "#2a3f5f",
             "gridcolor": "white",
             "linecolor": "white",
             "minorgridcolor": "white",
             "startlinecolor": "#2a3f5f"
            },
            "baxis": {
             "endlinecolor": "#2a3f5f",
             "gridcolor": "white",
             "linecolor": "white",
             "minorgridcolor": "white",
             "startlinecolor": "#2a3f5f"
            },
            "type": "carpet"
           }
          ],
          "choropleth": [
           {
            "colorbar": {
             "outlinewidth": 0,
             "ticks": ""
            },
            "type": "choropleth"
           }
          ],
          "contour": [
           {
            "colorbar": {
             "outlinewidth": 0,
             "ticks": ""
            },
            "colorscale": [
             [
              0,
              "#0d0887"
             ],
             [
              0.1111111111111111,
              "#46039f"
             ],
             [
              0.2222222222222222,
              "#7201a8"
             ],
             [
              0.3333333333333333,
              "#9c179e"
             ],
             [
              0.4444444444444444,
              "#bd3786"
             ],
             [
              0.5555555555555556,
              "#d8576b"
             ],
             [
              0.6666666666666666,
              "#ed7953"
             ],
             [
              0.7777777777777778,
              "#fb9f3a"
             ],
             [
              0.8888888888888888,
              "#fdca26"
             ],
             [
              1,
              "#f0f921"
             ]
            ],
            "type": "contour"
           }
          ],
          "contourcarpet": [
           {
            "colorbar": {
             "outlinewidth": 0,
             "ticks": ""
            },
            "type": "contourcarpet"
           }
          ],
          "heatmap": [
           {
            "colorbar": {
             "outlinewidth": 0,
             "ticks": ""
            },
            "colorscale": [
             [
              0,
              "#0d0887"
             ],
             [
              0.1111111111111111,
              "#46039f"
             ],
             [
              0.2222222222222222,
              "#7201a8"
             ],
             [
              0.3333333333333333,
              "#9c179e"
             ],
             [
              0.4444444444444444,
              "#bd3786"
             ],
             [
              0.5555555555555556,
              "#d8576b"
             ],
             [
              0.6666666666666666,
              "#ed7953"
             ],
             [
              0.7777777777777778,
              "#fb9f3a"
             ],
             [
              0.8888888888888888,
              "#fdca26"
             ],
             [
              1,
              "#f0f921"
             ]
            ],
            "type": "heatmap"
           }
          ],
          "heatmapgl": [
           {
            "colorbar": {
             "outlinewidth": 0,
             "ticks": ""
            },
            "colorscale": [
             [
              0,
              "#0d0887"
             ],
             [
              0.1111111111111111,
              "#46039f"
             ],
             [
              0.2222222222222222,
              "#7201a8"
             ],
             [
              0.3333333333333333,
              "#9c179e"
             ],
             [
              0.4444444444444444,
              "#bd3786"
             ],
             [
              0.5555555555555556,
              "#d8576b"
             ],
             [
              0.6666666666666666,
              "#ed7953"
             ],
             [
              0.7777777777777778,
              "#fb9f3a"
             ],
             [
              0.8888888888888888,
              "#fdca26"
             ],
             [
              1,
              "#f0f921"
             ]
            ],
            "type": "heatmapgl"
           }
          ],
          "histogram": [
           {
            "marker": {
             "pattern": {
              "fillmode": "overlay",
              "size": 10,
              "solidity": 0.2
             }
            },
            "type": "histogram"
           }
          ],
          "histogram2d": [
           {
            "colorbar": {
             "outlinewidth": 0,
             "ticks": ""
            },
            "colorscale": [
             [
              0,
              "#0d0887"
             ],
             [
              0.1111111111111111,
              "#46039f"
             ],
             [
              0.2222222222222222,
              "#7201a8"
             ],
             [
              0.3333333333333333,
              "#9c179e"
             ],
             [
              0.4444444444444444,
              "#bd3786"
             ],
             [
              0.5555555555555556,
              "#d8576b"
             ],
             [
              0.6666666666666666,
              "#ed7953"
             ],
             [
              0.7777777777777778,
              "#fb9f3a"
             ],
             [
              0.8888888888888888,
              "#fdca26"
             ],
             [
              1,
              "#f0f921"
             ]
            ],
            "type": "histogram2d"
           }
          ],
          "histogram2dcontour": [
           {
            "colorbar": {
             "outlinewidth": 0,
             "ticks": ""
            },
            "colorscale": [
             [
              0,
              "#0d0887"
             ],
             [
              0.1111111111111111,
              "#46039f"
             ],
             [
              0.2222222222222222,
              "#7201a8"
             ],
             [
              0.3333333333333333,
              "#9c179e"
             ],
             [
              0.4444444444444444,
              "#bd3786"
             ],
             [
              0.5555555555555556,
              "#d8576b"
             ],
             [
              0.6666666666666666,
              "#ed7953"
             ],
             [
              0.7777777777777778,
              "#fb9f3a"
             ],
             [
              0.8888888888888888,
              "#fdca26"
             ],
             [
              1,
              "#f0f921"
             ]
            ],
            "type": "histogram2dcontour"
           }
          ],
          "mesh3d": [
           {
            "colorbar": {
             "outlinewidth": 0,
             "ticks": ""
            },
            "type": "mesh3d"
           }
          ],
          "parcoords": [
           {
            "line": {
             "colorbar": {
              "outlinewidth": 0,
              "ticks": ""
             }
            },
            "type": "parcoords"
           }
          ],
          "pie": [
           {
            "automargin": true,
            "type": "pie"
           }
          ],
          "scatter": [
           {
            "fillpattern": {
             "fillmode": "overlay",
             "size": 10,
             "solidity": 0.2
            },
            "type": "scatter"
           }
          ],
          "scatter3d": [
           {
            "line": {
             "colorbar": {
              "outlinewidth": 0,
              "ticks": ""
             }
            },
            "marker": {
             "colorbar": {
              "outlinewidth": 0,
              "ticks": ""
             }
            },
            "type": "scatter3d"
           }
          ],
          "scattercarpet": [
           {
            "marker": {
             "colorbar": {
              "outlinewidth": 0,
              "ticks": ""
             }
            },
            "type": "scattercarpet"
           }
          ],
          "scattergeo": [
           {
            "marker": {
             "colorbar": {
              "outlinewidth": 0,
              "ticks": ""
             }
            },
            "type": "scattergeo"
           }
          ],
          "scattergl": [
           {
            "marker": {
             "colorbar": {
              "outlinewidth": 0,
              "ticks": ""
             }
            },
            "type": "scattergl"
           }
          ],
          "scattermapbox": [
           {
            "marker": {
             "colorbar": {
              "outlinewidth": 0,
              "ticks": ""
             }
            },
            "type": "scattermapbox"
           }
          ],
          "scatterpolar": [
           {
            "marker": {
             "colorbar": {
              "outlinewidth": 0,
              "ticks": ""
             }
            },
            "type": "scatterpolar"
           }
          ],
          "scatterpolargl": [
           {
            "marker": {
             "colorbar": {
              "outlinewidth": 0,
              "ticks": ""
             }
            },
            "type": "scatterpolargl"
           }
          ],
          "scatterternary": [
           {
            "marker": {
             "colorbar": {
              "outlinewidth": 0,
              "ticks": ""
             }
            },
            "type": "scatterternary"
           }
          ],
          "surface": [
           {
            "colorbar": {
             "outlinewidth": 0,
             "ticks": ""
            },
            "colorscale": [
             [
              0,
              "#0d0887"
             ],
             [
              0.1111111111111111,
              "#46039f"
             ],
             [
              0.2222222222222222,
              "#7201a8"
             ],
             [
              0.3333333333333333,
              "#9c179e"
             ],
             [
              0.4444444444444444,
              "#bd3786"
             ],
             [
              0.5555555555555556,
              "#d8576b"
             ],
             [
              0.6666666666666666,
              "#ed7953"
             ],
             [
              0.7777777777777778,
              "#fb9f3a"
             ],
             [
              0.8888888888888888,
              "#fdca26"
             ],
             [
              1,
              "#f0f921"
             ]
            ],
            "type": "surface"
           }
          ],
          "table": [
           {
            "cells": {
             "fill": {
              "color": "#EBF0F8"
             },
             "line": {
              "color": "white"
             }
            },
            "header": {
             "fill": {
              "color": "#C8D4E3"
             },
             "line": {
              "color": "white"
             }
            },
            "type": "table"
           }
          ]
         },
         "layout": {
          "annotationdefaults": {
           "arrowcolor": "#2a3f5f",
           "arrowhead": 0,
           "arrowwidth": 1
          },
          "autotypenumbers": "strict",
          "coloraxis": {
           "colorbar": {
            "outlinewidth": 0,
            "ticks": ""
           }
          },
          "colorscale": {
           "diverging": [
            [
             0,
             "#8e0152"
            ],
            [
             0.1,
             "#c51b7d"
            ],
            [
             0.2,
             "#de77ae"
            ],
            [
             0.3,
             "#f1b6da"
            ],
            [
             0.4,
             "#fde0ef"
            ],
            [
             0.5,
             "#f7f7f7"
            ],
            [
             0.6,
             "#e6f5d0"
            ],
            [
             0.7,
             "#b8e186"
            ],
            [
             0.8,
             "#7fbc41"
            ],
            [
             0.9,
             "#4d9221"
            ],
            [
             1,
             "#276419"
            ]
           ],
           "sequential": [
            [
             0,
             "#0d0887"
            ],
            [
             0.1111111111111111,
             "#46039f"
            ],
            [
             0.2222222222222222,
             "#7201a8"
            ],
            [
             0.3333333333333333,
             "#9c179e"
            ],
            [
             0.4444444444444444,
             "#bd3786"
            ],
            [
             0.5555555555555556,
             "#d8576b"
            ],
            [
             0.6666666666666666,
             "#ed7953"
            ],
            [
             0.7777777777777778,
             "#fb9f3a"
            ],
            [
             0.8888888888888888,
             "#fdca26"
            ],
            [
             1,
             "#f0f921"
            ]
           ],
           "sequentialminus": [
            [
             0,
             "#0d0887"
            ],
            [
             0.1111111111111111,
             "#46039f"
            ],
            [
             0.2222222222222222,
             "#7201a8"
            ],
            [
             0.3333333333333333,
             "#9c179e"
            ],
            [
             0.4444444444444444,
             "#bd3786"
            ],
            [
             0.5555555555555556,
             "#d8576b"
            ],
            [
             0.6666666666666666,
             "#ed7953"
            ],
            [
             0.7777777777777778,
             "#fb9f3a"
            ],
            [
             0.8888888888888888,
             "#fdca26"
            ],
            [
             1,
             "#f0f921"
            ]
           ]
          },
          "colorway": [
           "#636efa",
           "#EF553B",
           "#00cc96",
           "#ab63fa",
           "#FFA15A",
           "#19d3f3",
           "#FF6692",
           "#B6E880",
           "#FF97FF",
           "#FECB52"
          ],
          "font": {
           "color": "#2a3f5f"
          },
          "geo": {
           "bgcolor": "white",
           "lakecolor": "white",
           "landcolor": "#E5ECF6",
           "showlakes": true,
           "showland": true,
           "subunitcolor": "white"
          },
          "hoverlabel": {
           "align": "left"
          },
          "hovermode": "closest",
          "mapbox": {
           "style": "light"
          },
          "paper_bgcolor": "white",
          "plot_bgcolor": "#E5ECF6",
          "polar": {
           "angularaxis": {
            "gridcolor": "white",
            "linecolor": "white",
            "ticks": ""
           },
           "bgcolor": "#E5ECF6",
           "radialaxis": {
            "gridcolor": "white",
            "linecolor": "white",
            "ticks": ""
           }
          },
          "scene": {
           "xaxis": {
            "backgroundcolor": "#E5ECF6",
            "gridcolor": "white",
            "gridwidth": 2,
            "linecolor": "white",
            "showbackground": true,
            "ticks": "",
            "zerolinecolor": "white"
           },
           "yaxis": {
            "backgroundcolor": "#E5ECF6",
            "gridcolor": "white",
            "gridwidth": 2,
            "linecolor": "white",
            "showbackground": true,
            "ticks": "",
            "zerolinecolor": "white"
           },
           "zaxis": {
            "backgroundcolor": "#E5ECF6",
            "gridcolor": "white",
            "gridwidth": 2,
            "linecolor": "white",
            "showbackground": true,
            "ticks": "",
            "zerolinecolor": "white"
           }
          },
          "shapedefaults": {
           "line": {
            "color": "#2a3f5f"
           }
          },
          "ternary": {
           "aaxis": {
            "gridcolor": "white",
            "linecolor": "white",
            "ticks": ""
           },
           "baxis": {
            "gridcolor": "white",
            "linecolor": "white",
            "ticks": ""
           },
           "bgcolor": "#E5ECF6",
           "caxis": {
            "gridcolor": "white",
            "linecolor": "white",
            "ticks": ""
           }
          },
          "title": {
           "x": 0.05
          },
          "xaxis": {
           "automargin": true,
           "gridcolor": "white",
           "linecolor": "white",
           "ticks": "",
           "title": {
            "standoff": 15
           },
           "zerolinecolor": "white",
           "zerolinewidth": 2
          },
          "yaxis": {
           "automargin": true,
           "gridcolor": "white",
           "linecolor": "white",
           "ticks": "",
           "title": {
            "standoff": 15
           },
           "zerolinecolor": "white",
           "zerolinewidth": 2
          }
         }
        },
        "title": {
         "text": "Зависимость средней величины гос.поддержки от региона"
        },
        "width": 1000,
        "xaxis": {
         "anchor": "y",
         "categoryarray": [
          "Москва",
          "Магаданская область",
          "Чукотский автономный округ",
          "Кемеровская область",
          "Краснодарский край",
          "Республика Татарстан",
          "Республика Хакасия",
          "Ханты-Мансийский автономный округ - Югра",
          "Ставропольский край",
          "Псковская область"
         ],
         "categoryorder": "array",
         "domain": [
          0,
          1
         ],
         "title": {
          "text": "regionName"
         }
        },
        "yaxis": {
         "anchor": "x",
         "domain": [
          0,
          1
         ],
         "title": {
          "text": "incomeTotal"
         }
        }
       }
      }
     },
     "metadata": {},
     "output_type": "display_data"
    }
   ],
   "source": [
    "mask = data['incomeTotal'] > 0\n",
    "data_tmp = data[mask]\n",
    "bar_data = data_tmp.groupby(\n",
    "    by='regionName',\n",
    "    as_index=False\n",
    ")[['incomeTotal']].mean().nlargest(10, columns=['incomeTotal'])\n",
    "#display(bar_data)\n",
    "#строим график\n",
    "fig1 = px.bar(\n",
    "    data_frame=bar_data, #датафрейм\n",
    "    x=\"regionName\", #ось x\n",
    "    y=\"incomeTotal\", #ось y\n",
    "    color='regionName', #расцветка \n",
    "    #text = 'incomeTotal', #текст на столбцах\n",
    "    orientation='v', #ориентация графика\n",
    "    height=500, #высота\n",
    "    width=1000, #ширина\n",
    "    title='Зависимость средней величины гос.поддержки от региона' #заголовок    \n",
    ")\n",
    "#отображаем его\n",
    "fig1.show()"
   ]
  },
  {
   "cell_type": "markdown",
   "metadata": {},
   "source": [
    "График столбчатой диаграммы показывает, что в среднем величина гос. поддержки выше для НКО зарегистрированных в Москве."
   ]
  },
  {
   "cell_type": "code",
   "execution_count": 109,
   "metadata": {},
   "outputs": [
    {
     "name": "stdout",
     "output_type": "stream",
     "text": [
      "<class 'pandas.core.frame.DataFrame'>\n",
      "Int64Index: 747034 entries, 0 to 747033\n",
      "Data columns (total 16 columns):\n",
      " #   Column              Non-Null Count   Dtype  \n",
      "---  ------              --------------   -----  \n",
      " 0   ogrn                747034 non-null  int64  \n",
      " 1   shortName           597793 non-null  object \n",
      " 2   regionCode          747034 non-null  int64  \n",
      " 3   regionName          747034 non-null  object \n",
      " 4   incomeTotal         747034 non-null  float64\n",
      " 5   hasRegionalSupport  747034 non-null  object \n",
      " 6   minjustForm         747034 non-null  object \n",
      " 7   opf_name            747034 non-null  object \n",
      " 8   opf_code            747034 non-null  float64\n",
      " 9   opf_version         746619 non-null  object \n",
      " 10  mainOkved_name      747034 non-null  object \n",
      " 11  mainOkved_code      542357 non-null  object \n",
      " 12  addOkved_name       747034 non-null  object \n",
      " 13  addOkved_code       747034 non-null  object \n",
      " 14  age                 747034 non-null  float64\n",
      " 15  incomeTotal_target  747034 non-null  int32  \n",
      "dtypes: float64(3), int32(1), int64(2), object(10)\n",
      "memory usage: 110.2+ MB\n"
     ]
    },
    {
     "data": {
      "text/plain": [
       "None"
      ]
     },
     "metadata": {},
     "output_type": "display_data"
    }
   ],
   "source": [
    "display(data.info())"
   ]
  },
  {
   "cell_type": "code",
   "execution_count": 110,
   "metadata": {},
   "outputs": [
    {
     "data": {
      "text/html": [
       "<div>\n",
       "<style scoped>\n",
       "    .dataframe tbody tr th:only-of-type {\n",
       "        vertical-align: middle;\n",
       "    }\n",
       "\n",
       "    .dataframe tbody tr th {\n",
       "        vertical-align: top;\n",
       "    }\n",
       "\n",
       "    .dataframe thead th {\n",
       "        text-align: right;\n",
       "    }\n",
       "</style>\n",
       "<table border=\"1\" class=\"dataframe\">\n",
       "  <thead>\n",
       "    <tr style=\"text-align: right;\">\n",
       "      <th></th>\n",
       "      <th>regionName</th>\n",
       "      <th>opf_name</th>\n",
       "      <th>mainOkved_name</th>\n",
       "      <th>addOkved_name</th>\n",
       "      <th>age</th>\n",
       "      <th>incomeTotal_target</th>\n",
       "    </tr>\n",
       "  </thead>\n",
       "  <tbody>\n",
       "    <tr>\n",
       "      <th>0</th>\n",
       "      <td>Санкт-Петербург</td>\n",
       "      <td>Ассоциации (союзы)</td>\n",
       "      <td>Деятельность профессиональных членских организ...</td>\n",
       "      <td>undefined</td>\n",
       "      <td>1.0</td>\n",
       "      <td>0</td>\n",
       "    </tr>\n",
       "    <tr>\n",
       "      <th>1</th>\n",
       "      <td>Москва</td>\n",
       "      <td>Фонды</td>\n",
       "      <td>Предоставление прочих финансовых услуг, кроме ...</td>\n",
       "      <td>Издание книг;Издание газет;Виды издательской д...</td>\n",
       "      <td>1.0</td>\n",
       "      <td>0</td>\n",
       "    </tr>\n",
       "    <tr>\n",
       "      <th>2</th>\n",
       "      <td>Санкт-Петербург</td>\n",
       "      <td>Коллегии адвокатов</td>\n",
       "      <td>Деятельность в области права</td>\n",
       "      <td>undefined</td>\n",
       "      <td>1.0</td>\n",
       "      <td>0</td>\n",
       "    </tr>\n",
       "    <tr>\n",
       "      <th>3</th>\n",
       "      <td>Москва</td>\n",
       "      <td>Товарищества собственников недвижимости</td>\n",
       "      <td>Управление недвижимым имуществом за вознагражд...</td>\n",
       "      <td>Аренда и управление собственным или арендованн...</td>\n",
       "      <td>1.0</td>\n",
       "      <td>0</td>\n",
       "    </tr>\n",
       "    <tr>\n",
       "      <th>4</th>\n",
       "      <td>Санкт-Петербург</td>\n",
       "      <td>Автономные некоммерческие организации</td>\n",
       "      <td>Деятельность по организации конференций и выст...</td>\n",
       "      <td>Исследование конъюнктуры рынка и изучение обще...</td>\n",
       "      <td>1.0</td>\n",
       "      <td>0</td>\n",
       "    </tr>\n",
       "  </tbody>\n",
       "</table>\n",
       "</div>"
      ],
      "text/plain": [
       "        regionName                                 opf_name  \\\n",
       "0  Санкт-Петербург                       Ассоциации (союзы)   \n",
       "1           Москва                                    Фонды   \n",
       "2  Санкт-Петербург                       Коллегии адвокатов   \n",
       "3           Москва  Товарищества собственников недвижимости   \n",
       "4  Санкт-Петербург    Автономные некоммерческие организации   \n",
       "\n",
       "                                      mainOkved_name  \\\n",
       "0  Деятельность профессиональных членских организ...   \n",
       "1  Предоставление прочих финансовых услуг, кроме ...   \n",
       "2                       Деятельность в области права   \n",
       "3  Управление недвижимым имуществом за вознагражд...   \n",
       "4  Деятельность по организации конференций и выст...   \n",
       "\n",
       "                                       addOkved_name  age  incomeTotal_target  \n",
       "0                                          undefined  1.0                   0  \n",
       "1  Издание книг;Издание газет;Виды издательской д...  1.0                   0  \n",
       "2                                          undefined  1.0                   0  \n",
       "3  Аренда и управление собственным или арендованн...  1.0                   0  \n",
       "4  Исследование конъюнктуры рынка и изучение обще...  1.0                   0  "
      ]
     },
     "metadata": {},
     "output_type": "display_data"
    }
   ],
   "source": [
    "# Перед кодированием признаков удалим столбцы, которые нам больше не нужны\n",
    "data = data.drop(['ogrn', 'shortName', 'regionCode', 'mainOkved_code', 'addOkved_code', \n",
    "                  'hasRegionalSupport', 'opf_code', 'opf_version', \n",
    "                  'minjustForm', 'incomeTotal'], axis=1)\n",
    "\n",
    "data.to_csv('df_for_encoder.csv', index=False)\n",
    "display(data.head())"
   ]
  },
  {
   "cell_type": "markdown",
   "metadata": {},
   "source": [
    "### 2.3 Кодирование признаков"
   ]
  },
  {
   "cell_type": "markdown",
   "metadata": {},
   "source": [
    "Воспользуемся двоичным кодировщиком BinaryEncoder для кодирования номинальных признаков (кол-во значений > 15), таких как регион, ОКВЭД, ОПФ.\n",
    "Признак 'age' является порядковым, его не будем кодировать, т.к. он представляет возраст организации в годах, что по сути уже является закодированным значением."
   ]
  },
  {
   "cell_type": "code",
   "execution_count": 111,
   "metadata": {},
   "outputs": [],
   "source": [
    "bin_encoder = ce.BinaryEncoder(cols=['regionName', 'mainOkved_name', 'addOkved_name', 'opf_name']) # указываем столбец для кодирования\n",
    "type_bin = bin_encoder.fit_transform(data[['regionName', 'mainOkved_name','addOkved_name', 'opf_name']])\n",
    "data = pd.concat([data, type_bin], axis=1)\n",
    "data = data.drop(['regionName', 'mainOkved_name', 'addOkved_name', 'opf_name'], axis=1)"
   ]
  },
  {
   "cell_type": "code",
   "execution_count": 112,
   "metadata": {},
   "outputs": [
    {
     "name": "stdout",
     "output_type": "stream",
     "text": [
      "<class 'pandas.core.frame.DataFrame'>\n",
      "Int64Index: 747034 entries, 0 to 747033\n",
      "Data columns (total 46 columns):\n",
      " #   Column              Non-Null Count   Dtype  \n",
      "---  ------              --------------   -----  \n",
      " 0   age                 747034 non-null  float64\n",
      " 1   incomeTotal_target  747034 non-null  int32  \n",
      " 2   regionName_0        747034 non-null  int64  \n",
      " 3   regionName_1        747034 non-null  int64  \n",
      " 4   regionName_2        747034 non-null  int64  \n",
      " 5   regionName_3        747034 non-null  int64  \n",
      " 6   regionName_4        747034 non-null  int64  \n",
      " 7   regionName_5        747034 non-null  int64  \n",
      " 8   regionName_6        747034 non-null  int64  \n",
      " 9   mainOkved_name_0    747034 non-null  int64  \n",
      " 10  mainOkved_name_1    747034 non-null  int64  \n",
      " 11  mainOkved_name_2    747034 non-null  int64  \n",
      " 12  mainOkved_name_3    747034 non-null  int64  \n",
      " 13  mainOkved_name_4    747034 non-null  int64  \n",
      " 14  mainOkved_name_5    747034 non-null  int64  \n",
      " 15  mainOkved_name_6    747034 non-null  int64  \n",
      " 16  mainOkved_name_7    747034 non-null  int64  \n",
      " 17  mainOkved_name_8    747034 non-null  int64  \n",
      " 18  mainOkved_name_9    747034 non-null  int64  \n",
      " 19  mainOkved_name_10   747034 non-null  int64  \n",
      " 20  addOkved_name_0     747034 non-null  int64  \n",
      " 21  addOkved_name_1     747034 non-null  int64  \n",
      " 22  addOkved_name_2     747034 non-null  int64  \n",
      " 23  addOkved_name_3     747034 non-null  int64  \n",
      " 24  addOkved_name_4     747034 non-null  int64  \n",
      " 25  addOkved_name_5     747034 non-null  int64  \n",
      " 26  addOkved_name_6     747034 non-null  int64  \n",
      " 27  addOkved_name_7     747034 non-null  int64  \n",
      " 28  addOkved_name_8     747034 non-null  int64  \n",
      " 29  addOkved_name_9     747034 non-null  int64  \n",
      " 30  addOkved_name_10    747034 non-null  int64  \n",
      " 31  addOkved_name_11    747034 non-null  int64  \n",
      " 32  addOkved_name_12    747034 non-null  int64  \n",
      " 33  addOkved_name_13    747034 non-null  int64  \n",
      " 34  addOkved_name_14    747034 non-null  int64  \n",
      " 35  addOkved_name_15    747034 non-null  int64  \n",
      " 36  addOkved_name_16    747034 non-null  int64  \n",
      " 37  opf_name_0          747034 non-null  int64  \n",
      " 38  opf_name_1          747034 non-null  int64  \n",
      " 39  opf_name_2          747034 non-null  int64  \n",
      " 40  opf_name_3          747034 non-null  int64  \n",
      " 41  opf_name_4          747034 non-null  int64  \n",
      " 42  opf_name_5          747034 non-null  int64  \n",
      " 43  opf_name_6          747034 non-null  int64  \n",
      " 44  opf_name_7          747034 non-null  int64  \n",
      " 45  opf_name_8          747034 non-null  int64  \n",
      "dtypes: float64(1), int32(1), int64(44)\n",
      "memory usage: 281.1 MB\n"
     ]
    },
    {
     "data": {
      "text/plain": [
       "None"
      ]
     },
     "metadata": {},
     "output_type": "display_data"
    },
    {
     "name": "stdout",
     "output_type": "stream",
     "text": [
      "Кол-во пропусков:  0\n"
     ]
    }
   ],
   "source": [
    "display(data.info())\n",
    "print('Кол-во пропусков: ', data.isnull().sum().sum())"
   ]
  },
  {
   "cell_type": "markdown",
   "metadata": {},
   "source": [
    "### 2.4. Решение задачи классификации"
   ]
  },
  {
   "cell_type": "markdown",
   "metadata": {},
   "source": [
    "2.4.1. Воспользуемся моделью логистической регрессии для бинарной классификации"
   ]
  },
  {
   "cell_type": "code",
   "execution_count": 113,
   "metadata": {},
   "outputs": [
    {
     "data": {
      "text/plain": [
       "0    0.945189\n",
       "1    0.054811\n",
       "Name: incomeTotal_target, dtype: float64"
      ]
     },
     "metadata": {},
     "output_type": "display_data"
    },
    {
     "data": {
      "image/png": "[encoded data removed]",
      "text/plain": [
       "<Figure size 800x550 with 1 Axes>"
      ]
     },
     "metadata": {},
     "output_type": "display_data"
    }
   ],
   "source": [
    "# Сначала выявим соотношение классов\n",
    "display(data['incomeTotal_target'].value_counts(normalize=True))\n",
    "sns.countplot(data=data, x='incomeTotal_target');"
   ]
  },
  {
   "cell_type": "markdown",
   "metadata": {},
   "source": [
    "Видим, что классы (НКО получившие гос.поддержку/НКО не получившие гос.поддержку) не сбалансированы, учтём это обстоятельство при делении датасета на тренировочную и тестовую выборки."
   ]
  },
  {
   "cell_type": "code",
   "execution_count": 114,
   "metadata": {},
   "outputs": [],
   "source": [
    "X = data.drop(['incomeTotal_target'], axis=1)\n",
    "y = data['incomeTotal_target']\n",
    "\n",
    "# Разбиваем исходную выборку на тренировочную и тестовую в соотношении 70/30\n",
    "X_train, X_test, y_train, y_test = train_test_split(X, y, test_size=0.3, random_state=42, stratify=y) # попробуем сбалансировать соотношения"
   ]
  },
  {
   "cell_type": "code",
   "execution_count": 115,
   "metadata": {},
   "outputs": [
    {
     "name": "stdout",
     "output_type": "stream",
     "text": [
      "Accuracy: 0.94\n",
      "Precision: 0.37\n",
      "Recall: 0.01\n",
      "F1 : 0.01\n"
     ]
    }
   ],
   "source": [
    "#Создаём объект класса LogisticRegression\n",
    "log_reg = linear_model.LogisticRegression(random_state=42)\n",
    "#Обучаем модель\n",
    "log_reg.fit(X_train, y_train)\n",
    "\n",
    "y_predict = log_reg.predict(X_test) # predict_proba - предсказание вероятности\n",
    "#Выводим значения метрик\n",
    "print('Accuracy: {:.2f}'.format(metrics.accuracy_score(y_test, y_predict)))\n",
    "print('Precision: {:.2f}'.format(metrics.precision_score(y_test, y_predict)))\n",
    "print('Recall: {:.2f}'.format(metrics.recall_score(y_test, y_predict)))\n",
    "print('F1 : {:.2f}'.format(metrics.f1_score(y_test, y_predict)))"
   ]
  },
  {
   "cell_type": "markdown",
   "metadata": {},
   "source": [
    "Метрика accuracy = 0.94 показывает нам, как много (в долях) модель угадала ответов (достоверность).\n",
    "\n",
    "Precission - способность отделить класс 1 от класса 0. Т.е., количество НКО получивших деньги от государства (по 'мнению' модели) и при этом действительно получивших, составило всего 37%. Т.е. имеем достаточно много ложноположительных срабатываний (точность).\n",
    "\n",
    "Recall (полнота) - доля объектов, названных классификатором положительными, по отношению ко всем объектам положительного класса. Recall = 0.1, - велика вероятность допустить ложноотрицательное срабатывание (ошибку второго рода).\n",
    "\n",
    "F1-мера - это взвешенное среднее гармоническое между precision и recall. Даёт обобщённое представление о точности и полноте. В нашем случае, F1 = 0.01, - низний показатель метрики связан с наличием большого числа ложных срабатываний (см. recall=0.01)."
   ]
  },
  {
   "cell_type": "markdown",
   "metadata": {},
   "source": [
    "2.4.2. Дерево решений"
   ]
  },
  {
   "cell_type": "code",
   "execution_count": 116,
   "metadata": {},
   "outputs": [
    {
     "name": "stdout",
     "output_type": "stream",
     "text": [
      "              precision    recall  f1-score   support\n",
      "\n",
      "           0       0.96      0.96      0.96    211827\n",
      "           1       0.28      0.24      0.26     12284\n",
      "\n",
      "    accuracy                           0.92    224111\n",
      "   macro avg       0.62      0.60      0.61    224111\n",
      "weighted avg       0.92      0.92      0.92    224111\n",
      "\n"
     ]
    }
   ],
   "source": [
    "#Создаём объект класса DecisionTreeClassifier\n",
    "dt_clf = tree.DecisionTreeClassifier(\n",
    "    criterion='entropy', #критерий информативности \n",
    "    max_depth=50, #максимальная глубина \n",
    "    #max_features # максимальное число признаков, по которым ищется лучшее разбиение в дереве\n",
    "    #min_samples_leaf — минимальное число объектов в листе   \n",
    "    random_state=42 #генератор случайных чисел\n",
    ")\n",
    "#Обучаем дерево решений \n",
    "dt_clf.fit(X_train, y_train)\n",
    "\n",
    "#Делаем предсказание\n",
    "y_predict2 = dt_clf.predict(X_test)\n",
    "\n",
    "#Выводим отчёт о метриках классификации\n",
    "print(metrics.classification_report(y_test, y_predict2))"
   ]
  },
  {
   "cell_type": "markdown",
   "metadata": {},
   "source": [
    "2.4.3. Воспользуемся моделью случайного леса"
   ]
  },
  {
   "cell_type": "code",
   "execution_count": 117,
   "metadata": {},
   "outputs": [
    {
     "name": "stdout",
     "output_type": "stream",
     "text": [
      "              precision    recall  f1-score   support\n",
      "\n",
      "           0       0.95      0.99      0.97    211827\n",
      "           1       0.43      0.09      0.15     12284\n",
      "\n",
      "    accuracy                           0.94    224111\n",
      "   macro avg       0.69      0.54      0.56    224111\n",
      "weighted avg       0.92      0.94      0.93    224111\n",
      "\n"
     ]
    }
   ],
   "source": [
    "#Создаём объект класса RandomForestClassifier\n",
    "rf_clf = ensemble.RandomForestClassifier(\n",
    "    n_estimators=50, #число деревьев\n",
    "    criterion='entropy', #критерий эффективности\n",
    "    max_depth=30, #максимальная глубина дерева\n",
    "    max_features='sqrt', #число признаков из метода случайных подпространств\n",
    "    #min_samples_leaf=1, #минимальное число объектов в листе (по умолчанию — 1);\n",
    "    random_state=42 #генератор случайных чисел\n",
    ")\n",
    "#Обучаем модель \n",
    "rf_clf.fit(X_train, y_train)\n",
    " \n",
    "#Делаем предсказание\n",
    "y_predict3 = rf_clf.predict(X_test)\n",
    "#Выводим отчёт о метриках\n",
    "print(metrics.classification_report(y_test, y_predict3))"
   ]
  },
  {
   "cell_type": "markdown",
   "metadata": {},
   "source": [
    "2.4.4. Воспользуемся методом поиска по сетке (GridSearchCV), для подбора гиперпараметров для модели случайного леса."
   ]
  },
  {
   "cell_type": "code",
   "execution_count": 118,
   "metadata": {},
   "outputs": [
    {
     "name": "stdout",
     "output_type": "stream",
     "text": [
      "Wall time: 18min 3s\n",
      "Наилучшая модель:\n",
      "RandomForestClassifier(criterion='entropy', max_depth=20, max_features='sqrt',\n",
      "                       n_estimators=50, random_state=42)\n"
     ]
    }
   ],
   "source": [
    "# Сетка значений гиперпараметров\n",
    "param_grid = {'n_estimators': list(range(40, 60, 10)), #число деревьев              \n",
    "              'max_depth': list(range(20, 50, 10)) #максимальная глубина дерева              \n",
    "              }             \n",
    "\n",
    "grid_search = GridSearchCV(\n",
    "    estimator=ensemble.RandomForestClassifier(criterion='entropy', max_features='sqrt', random_state=42), \n",
    "    param_grid=param_grid, \n",
    "    cv=5, #количество фолдов в кросс-валидации, по умолчанию используется 5\n",
    "    n_jobs = -1 # количество ядер для распараллеливания расчёта. -1 использует все существующие ядра\n",
    ")\n",
    "# %time - замеряет время выполнения\n",
    "%time grid_search.fit(X_train, y_train) \n",
    "print(\"Наилучшая модель:\\n{}\".format(grid_search.best_estimator_))"
   ]
  },
  {
   "cell_type": "code",
   "execution_count": 119,
   "metadata": {},
   "outputs": [
    {
     "name": "stdout",
     "output_type": "stream",
     "text": [
      "              precision    recall  f1-score   support\n",
      "\n",
      "           0       0.95      0.99      0.97    211827\n",
      "           1       0.43      0.09      0.15     12284\n",
      "\n",
      "    accuracy                           0.94    224111\n",
      "   macro avg       0.69      0.54      0.56    224111\n",
      "weighted avg       0.92      0.94      0.93    224111\n",
      "\n"
     ]
    }
   ],
   "source": [
    "rf_clf_2 = ensemble.RandomForestClassifier(\n",
    "    criterion='entropy', \n",
    "    max_depth=20, \n",
    "    max_features='sqrt',\n",
    "    n_estimators=50, \n",
    "    random_state=42\n",
    ")\n",
    "#Обучаем модель \n",
    "rf_clf_2.fit(X_train, y_train) \n",
    "#Делаем предсказание\n",
    "y_predict4 = rf_clf.predict(X_test)\n",
    "#Выводим отчёт о метриках\n",
    "print(metrics.classification_report(y_test, y_predict4))"
   ]
  },
  {
   "cell_type": "markdown",
   "metadata": {},
   "source": [
    "2.4.5. Создадим сводную таблицу"
   ]
  },
  {
   "cell_type": "code",
   "execution_count": 120,
   "metadata": {},
   "outputs": [
    {
     "data": {
      "text/html": [
       "<div>\n",
       "<style scoped>\n",
       "    .dataframe tbody tr th:only-of-type {\n",
       "        vertical-align: middle;\n",
       "    }\n",
       "\n",
       "    .dataframe tbody tr th {\n",
       "        vertical-align: top;\n",
       "    }\n",
       "\n",
       "    .dataframe thead th {\n",
       "        text-align: right;\n",
       "    }\n",
       "</style>\n",
       "<table border=\"1\" class=\"dataframe\">\n",
       "  <thead>\n",
       "    <tr style=\"text-align: right;\">\n",
       "      <th></th>\n",
       "      <th>Model</th>\n",
       "      <th>Accuracy</th>\n",
       "      <th>Precission</th>\n",
       "      <th>Recall</th>\n",
       "      <th>F1</th>\n",
       "    </tr>\n",
       "  </thead>\n",
       "  <tbody>\n",
       "    <tr>\n",
       "      <th>0</th>\n",
       "      <td>Логистическая регрессия</td>\n",
       "      <td>0.94</td>\n",
       "      <td>0.37</td>\n",
       "      <td>0.01</td>\n",
       "      <td>0.01</td>\n",
       "    </tr>\n",
       "    <tr>\n",
       "      <th>1</th>\n",
       "      <td>Дерево решений</td>\n",
       "      <td>0.92</td>\n",
       "      <td>0.28</td>\n",
       "      <td>0.24</td>\n",
       "      <td>0.26</td>\n",
       "    </tr>\n",
       "    <tr>\n",
       "      <th>2</th>\n",
       "      <td>Случайный лес</td>\n",
       "      <td>0.94</td>\n",
       "      <td>0.43</td>\n",
       "      <td>0.09</td>\n",
       "      <td>0.15</td>\n",
       "    </tr>\n",
       "    <tr>\n",
       "      <th>3</th>\n",
       "      <td>Случ. лес с подобранными гиперпарам.</td>\n",
       "      <td>0.94</td>\n",
       "      <td>0.43</td>\n",
       "      <td>0.09</td>\n",
       "      <td>0.15</td>\n",
       "    </tr>\n",
       "  </tbody>\n",
       "</table>\n",
       "</div>"
      ],
      "text/plain": [
       "                                  Model Accuracy Precission Recall    F1\n",
       "0               Логистическая регрессия     0.94       0.37   0.01  0.01\n",
       "1                        Дерево решений     0.92       0.28   0.24  0.26\n",
       "2                         Случайный лес     0.94       0.43   0.09  0.15\n",
       "3  Случ. лес с подобранными гиперпарам.     0.94       0.43   0.09  0.15"
      ]
     },
     "metadata": {},
     "output_type": "display_data"
    }
   ],
   "source": [
    "table = {'Model':['Логистическая регрессия', 'Дерево решений', 'Случайный лес', 'Случ. лес с подобранными гиперпарам.'], \n",
    "         'Accuracy':['0.94', '0.92', '0.94', '0.94'], \n",
    "         'Precission':['0.37', '0.28', '0.43', '0.43'], \n",
    "         'Recall':['0.01', '0.24', '0.09', '0.09'],\n",
    "         'F1':['0.01', '0.26', '0.15', '0.15']\n",
    "         }\n",
    "table = pd.DataFrame(table)\n",
    "display(table)"
   ]
  },
  {
   "cell_type": "markdown",
   "metadata": {},
   "source": [
    "Для предсказания вероятности получения грантов/госконтрактов от государства выберем модель случайного леса (с подобранными гиперпараметрами), т.к. она обладает лучшими показателями метрик, из представленных моделей. "
   ]
  },
  {
   "cell_type": "markdown",
   "metadata": {},
   "source": [
    "### 2.5. Подготовка модели к продакшену"
   ]
  },
  {
   "cell_type": "code",
   "execution_count": 121,
   "metadata": {},
   "outputs": [],
   "source": [
    "# Производим сериализацию обученной модели и записываем результат в файл формата pkl\n",
    "with open('myfile.pkl', 'wb') as output:\n",
    "    pickle.dump(rf_clf_2, output)"
   ]
  }
 ],
 "metadata": {
  "kernelspec": {
   "display_name": "Python 3",
   "language": "python",
   "name": "python3"
  },
  "language_info": {
   "codemirror_mode": {
    "name": "ipython",
    "version": 3
   },
   "file_extension": ".py",
   "mimetype": "text/x-python",
   "name": "python",
   "nbconvert_exporter": "python",
   "pygments_lexer": "ipython3",
   "version": "3.9.13"
  }
 },
 "nbformat": 4,
 "nbformat_minor": 2
}
